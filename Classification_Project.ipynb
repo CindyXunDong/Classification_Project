{
 "cells": [
  {
   "cell_type": "code",
   "execution_count": 75,
   "metadata": {
    "collapsed": false
   },
   "outputs": [
   ],
   "source": [
    "import pandas as pd\n",
    "import numpy as np\n",
    "from matplotlib import pylab as plt\n",
    "%matplotlib inline\n",
    "from matplotlib.colors import ListedColormap\n",
    "import matplotlib.cm as cm\n",
    "\n",
    "from sklearn.model_selection import train_test_split\n",
    "from sklearn.linear_model import LogisticRegression\n",
    "from sklearn.linear_model import LogisticRegressionCV\n",
    "from sklearn import naive_bayes\n",
    "from sklearn.neighbors import KNeighborsClassifier\n",
    "from sklearn.model_selection import GridSearchCV\n",
    "from sklearn.model_selection import KFold\n",
    "from sklearn import svm\n",
    "from sklearn.ensemble import RandomForestClassifier\n",
    "from sklearn.ensemble import GradientBoostingClassifier\n",
    "\n",
    "from sklearn.tree import DecisionTreeClassifier\n",
    "from sklearn.neural_network import MLPClassifier\n",
    "\n",
    "from sklearn.pipeline import Pipeline\n",
    "from sklearn.preprocessing import StandardScaler\n",
    "from sklearn.pipeline import make_pipeline\n",
    "\n",
    "from sklearn.metrics import accuracy_score, confusion_matrix, classification_report\n",
    "from sklearn.metrics import roc_curve, roc_auc_score, average_precision_score\n",
    "from sklearn.metrics import precision_recall_curve\n",
    "from sklearn.metrics import precision_score, recall_score\n",
    "\n",
    "from itertools import product\n",
    "\n",
    "from sklearn.feature_selection import SelectKBest\n",
    "from sklearn.feature_selection import chi2\n",
    "\n",
    "from scipy.stats import mode"
   ]
  },
  {
   "cell_type": "markdown",
   "metadata": {
    "collapsed": false
   },
   "source": [
    "I pulled and cleaned a comprehensive dataset of colleges from this governmental database:\n",
    "    \n",
    "https://collegescorecard.ed.gov/data/\n",
    "\n",
    "Let's read this dataset in:"
   ]
  },
  {
   "cell_type": "code",
   "execution_count": 76,
   "metadata": {
    "collapsed": false
   },
   "outputs": [
    {
     "name": "stdout",
     "output_type": "stream",
     "text": [
      "(6740, 46)\n"
     ]
    },
    {
     "data": {
      "text/html": [
       "<div>\n",
       "<style scoped>\n",
       "    .dataframe tbody tr th:only-of-type {\n",
       "        vertical-align: middle;\n",
       "    }\n",
       "\n",
       "    .dataframe tbody tr th {\n",
       "        vertical-align: top;\n",
       "    }\n",
       "\n",
       "    .dataframe thead th {\n",
       "        text-align: right;\n",
       "    }\n",
       "</style>\n",
       "<table border=\"1\" class=\"dataframe\">\n",
       "  <thead>\n",
       "    <tr style=\"text-align: right;\">\n",
       "      <th></th>\n",
       "      <th>name</th>\n",
       "      <th>ownership</th>\n",
       "      <th>ope6_id</th>\n",
       "      <th>state</th>\n",
       "      <th>size</th>\n",
       "      <th>accreditor</th>\n",
       "      <th>retention</th>\n",
       "      <th>branches</th>\n",
       "      <th>online_only</th>\n",
       "      <th>religious_affil</th>\n",
       "      <th>...</th>\n",
       "      <th>fafsa_sent</th>\n",
       "      <th>7_yr_repayment_completion</th>\n",
       "      <th>5_year_declining_balance</th>\n",
       "      <th>relig_y_n</th>\n",
       "      <th>accred_y_n</th>\n",
       "      <th>retention_listed_y_n</th>\n",
       "      <th>fac_salary_listed_y_n</th>\n",
       "      <th>7_yr_repayment_completion_y_n</th>\n",
       "      <th>5_year_declining_balance_y_n</th>\n",
       "      <th>for_profit</th>\n",
       "    </tr>\n",
       "  </thead>\n",
       "  <tbody>\n",
       "    <tr>\n",
       "      <td>0</td>\n",
       "      <td>Alaska Bible College</td>\n",
       "      <td>2</td>\n",
       "      <td>8843</td>\n",
       "      <td>AK</td>\n",
       "      <td>27</td>\n",
       "      <td>Association for Bibical Higher Educaiton</td>\n",
       "      <td>0.333300</td>\n",
       "      <td>1</td>\n",
       "      <td>0</td>\n",
       "      <td>88.0</td>\n",
       "      <td>...</td>\n",
       "      <td>0.463652</td>\n",
       "      <td>0.699542</td>\n",
       "      <td>0.496850</td>\n",
       "      <td>1</td>\n",
       "      <td>1</td>\n",
       "      <td>1</td>\n",
       "      <td>1</td>\n",
       "      <td>0</td>\n",
       "      <td>0</td>\n",
       "      <td>0</td>\n",
       "    </tr>\n",
       "    <tr>\n",
       "      <td>1</td>\n",
       "      <td>Alaska Christian College</td>\n",
       "      <td>2</td>\n",
       "      <td>41386</td>\n",
       "      <td>AK</td>\n",
       "      <td>68</td>\n",
       "      <td>Association for Bibical Higher Educaiton</td>\n",
       "      <td>0.473700</td>\n",
       "      <td>1</td>\n",
       "      <td>0</td>\n",
       "      <td>37.0</td>\n",
       "      <td>...</td>\n",
       "      <td>0.463652</td>\n",
       "      <td>0.699542</td>\n",
       "      <td>0.496850</td>\n",
       "      <td>1</td>\n",
       "      <td>1</td>\n",
       "      <td>1</td>\n",
       "      <td>1</td>\n",
       "      <td>0</td>\n",
       "      <td>0</td>\n",
       "      <td>0</td>\n",
       "    </tr>\n",
       "    <tr>\n",
       "      <td>2</td>\n",
       "      <td>Ilisagvik College</td>\n",
       "      <td>1</td>\n",
       "      <td>34613</td>\n",
       "      <td>AK</td>\n",
       "      <td>109</td>\n",
       "      <td>Northwest Commission on Colleges and Universities</td>\n",
       "      <td>0.809500</td>\n",
       "      <td>1</td>\n",
       "      <td>0</td>\n",
       "      <td>-2.0</td>\n",
       "      <td>...</td>\n",
       "      <td>0.463652</td>\n",
       "      <td>0.699542</td>\n",
       "      <td>0.496850</td>\n",
       "      <td>0</td>\n",
       "      <td>1</td>\n",
       "      <td>1</td>\n",
       "      <td>1</td>\n",
       "      <td>0</td>\n",
       "      <td>0</td>\n",
       "      <td>0</td>\n",
       "    </tr>\n",
       "    <tr>\n",
       "      <td>3</td>\n",
       "      <td>Charter College-Anchorage</td>\n",
       "      <td>3</td>\n",
       "      <td>25769</td>\n",
       "      <td>AK</td>\n",
       "      <td>3256</td>\n",
       "      <td>Accrediting Council for Independent Colleges a...</td>\n",
       "      <td>0.703723</td>\n",
       "      <td>1</td>\n",
       "      <td>0</td>\n",
       "      <td>-2.0</td>\n",
       "      <td>...</td>\n",
       "      <td>0.310288</td>\n",
       "      <td>0.725806</td>\n",
       "      <td>0.417949</td>\n",
       "      <td>0</td>\n",
       "      <td>1</td>\n",
       "      <td>0</td>\n",
       "      <td>1</td>\n",
       "      <td>1</td>\n",
       "      <td>1</td>\n",
       "      <td>1</td>\n",
       "    </tr>\n",
       "    <tr>\n",
       "      <td>4</td>\n",
       "      <td>Alaska Career College</td>\n",
       "      <td>3</td>\n",
       "      <td>25410</td>\n",
       "      <td>AK</td>\n",
       "      <td>479</td>\n",
       "      <td>Accrediting Commission of Career Schools and C...</td>\n",
       "      <td>0.794100</td>\n",
       "      <td>1</td>\n",
       "      <td>0</td>\n",
       "      <td>-2.0</td>\n",
       "      <td>...</td>\n",
       "      <td>0.254237</td>\n",
       "      <td>0.556430</td>\n",
       "      <td>0.462520</td>\n",
       "      <td>0</td>\n",
       "      <td>1</td>\n",
       "      <td>1</td>\n",
       "      <td>1</td>\n",
       "      <td>1</td>\n",
       "      <td>1</td>\n",
       "      <td>1</td>\n",
       "    </tr>\n",
       "  </tbody>\n",
       "</table>\n",
       "<p>5 rows × 46 columns</p>\n",
       "</div>"
      ],
      "text/plain": [
       "                        name  ownership  ope6_id state  size  \\\n",
       "0       Alaska Bible College          2     8843    AK    27   \n",
       "1   Alaska Christian College          2    41386    AK    68   \n",
       "2          Ilisagvik College          1    34613    AK   109   \n",
       "3  Charter College-Anchorage          3    25769    AK  3256   \n",
       "4      Alaska Career College          3    25410    AK   479   \n",
       "\n",
       "                                          accreditor  retention  branches  \\\n",
       "0           Association for Bibical Higher Educaiton   0.333300         1   \n",
       "1           Association for Bibical Higher Educaiton   0.473700         1   \n",
       "2  Northwest Commission on Colleges and Universities   0.809500         1   \n",
       "3  Accrediting Council for Independent Colleges a...   0.703723         1   \n",
       "4  Accrediting Commission of Career Schools and C...   0.794100         1   \n",
       "\n",
       "   online_only  religious_affil  ...  fafsa_sent  7_yr_repayment_completion  \\\n",
       "0            0             88.0  ...    0.463652                   0.699542   \n",
       "1            0             37.0  ...    0.463652                   0.699542   \n",
       "2            0             -2.0  ...    0.463652                   0.699542   \n",
       "3            0             -2.0  ...    0.310288                   0.725806   \n",
       "4            0             -2.0  ...    0.254237                   0.556430   \n",
       "\n",
       "   5_year_declining_balance  relig_y_n  accred_y_n  retention_listed_y_n  \\\n",
       "0                  0.496850          1           1                     1   \n",
       "1                  0.496850          1           1                     1   \n",
       "2                  0.496850          0           1                     1   \n",
       "3                  0.417949          0           1                     0   \n",
       "4                  0.462520          0           1                     1   \n",
       "\n",
       "   fac_salary_listed_y_n  7_yr_repayment_completion_y_n  \\\n",
       "0                      1                              0   \n",
       "1                      1                              0   \n",
       "2                      1                              0   \n",
       "3                      1                              1   \n",
       "4                      1                              1   \n",
       "\n",
       "   5_year_declining_balance_y_n  for_profit  \n",
       "0                             0           0  \n",
       "1                             0           0  \n",
       "2                             0           0  \n",
       "3                             1           1  \n",
       "4                             1           1  \n",
       "\n",
       "[5 rows x 46 columns]"
      ]
     },
     "execution_count": 76,
     "metadata": {
     },
     "output_type": "execute_result"
    }
   ],
   "source": [
    "df = pd.read_csv('data/schools.csv', index_col = 0)\n",
    "print(df.shape)\n",
    "df.head()"
   ]
  },
  {
   "cell_type": "markdown",
   "metadata": {
    "collapsed": false
   },
   "source": [
    "We are going to use classification algorithms to try to predict for-profit or non-profit status. \n",
    "\n",
    "Some of the categories aren't applicable to what we want to do so let's consider the following columns only:\n"
   ]
  },
  {
   "cell_type": "code",
   "execution_count": 77,
   "metadata": {
    "collapsed": false
   },
   "outputs": [
    {
     "data": {
      "text/html": [
       "<div>\n",
       "<style scoped>\n",
       "    .dataframe tbody tr th:only-of-type {\n",
       "        vertical-align: middle;\n",
       "    }\n",
       "\n",
       "    .dataframe tbody tr th {\n",
       "        vertical-align: top;\n",
       "    }\n",
       "\n",
       "    .dataframe thead th {\n",
       "        text-align: right;\n",
       "    }\n",
       "</style>\n",
       "<table border=\"1\" class=\"dataframe\">\n",
       "  <thead>\n",
       "    <tr style=\"text-align: right;\">\n",
       "      <th></th>\n",
       "      <th>size</th>\n",
       "      <th>retention</th>\n",
       "      <th>branches</th>\n",
       "      <th>online_only</th>\n",
       "      <th>under_investigation</th>\n",
       "      <th>most_common_degree</th>\n",
       "      <th>highest_degree</th>\n",
       "      <th>faculty_salary</th>\n",
       "      <th>instructional_expenditure_per_fte</th>\n",
       "      <th>tuition_revenue_per_fte</th>\n",
       "      <th>...</th>\n",
       "      <th>fafsa_sent</th>\n",
       "      <th>7_yr_repayment_completion</th>\n",
       "      <th>5_year_declining_balance</th>\n",
       "      <th>relig_y_n</th>\n",
       "      <th>accred_y_n</th>\n",
       "      <th>retention_listed_y_n</th>\n",
       "      <th>fac_salary_listed_y_n</th>\n",
       "      <th>7_yr_repayment_completion_y_n</th>\n",
       "      <th>5_year_declining_balance_y_n</th>\n",
       "      <th>for_profit</th>\n",
       "    </tr>\n",
       "  </thead>\n",
       "  <tbody>\n",
       "    <tr>\n",
       "      <td>0</td>\n",
       "      <td>27</td>\n",
       "      <td>0.333300</td>\n",
       "      <td>1</td>\n",
       "      <td>0</td>\n",
       "      <td>0</td>\n",
       "      <td>3</td>\n",
       "      <td>3</td>\n",
       "      <td>2201</td>\n",
       "      <td>9585</td>\n",
       "      <td>8132</td>\n",
       "      <td>...</td>\n",
       "      <td>0.463652</td>\n",
       "      <td>0.699542</td>\n",
       "      <td>0.496850</td>\n",
       "      <td>1</td>\n",
       "      <td>1</td>\n",
       "      <td>1</td>\n",
       "      <td>1</td>\n",
       "      <td>0</td>\n",
       "      <td>0</td>\n",
       "      <td>0</td>\n",
       "    </tr>\n",
       "    <tr>\n",
       "      <td>1</td>\n",
       "      <td>68</td>\n",
       "      <td>0.473700</td>\n",
       "      <td>1</td>\n",
       "      <td>0</td>\n",
       "      <td>0</td>\n",
       "      <td>1</td>\n",
       "      <td>2</td>\n",
       "      <td>5554</td>\n",
       "      <td>18174</td>\n",
       "      <td>12989</td>\n",
       "      <td>...</td>\n",
       "      <td>0.463652</td>\n",
       "      <td>0.699542</td>\n",
       "      <td>0.496850</td>\n",
       "      <td>1</td>\n",
       "      <td>1</td>\n",
       "      <td>1</td>\n",
       "      <td>1</td>\n",
       "      <td>0</td>\n",
       "      <td>0</td>\n",
       "      <td>0</td>\n",
       "    </tr>\n",
       "    <tr>\n",
       "      <td>2</td>\n",
       "      <td>109</td>\n",
       "      <td>0.809500</td>\n",
       "      <td>1</td>\n",
       "      <td>0</td>\n",
       "      <td>0</td>\n",
       "      <td>1</td>\n",
       "      <td>2</td>\n",
       "      <td>6054</td>\n",
       "      <td>38265</td>\n",
       "      <td>3587</td>\n",
       "      <td>...</td>\n",
       "      <td>0.463652</td>\n",
       "      <td>0.699542</td>\n",
       "      <td>0.496850</td>\n",
       "      <td>0</td>\n",
       "      <td>1</td>\n",
       "      <td>1</td>\n",
       "      <td>1</td>\n",
       "      <td>0</td>\n",
       "      <td>0</td>\n",
       "      <td>0</td>\n",
       "    </tr>\n",
       "    <tr>\n",
       "      <td>3</td>\n",
       "      <td>3256</td>\n",
       "      <td>0.703723</td>\n",
       "      <td>1</td>\n",
       "      <td>0</td>\n",
       "      <td>0</td>\n",
       "      <td>1</td>\n",
       "      <td>3</td>\n",
       "      <td>4004</td>\n",
       "      <td>2617</td>\n",
       "      <td>8755</td>\n",
       "      <td>...</td>\n",
       "      <td>0.310288</td>\n",
       "      <td>0.725806</td>\n",
       "      <td>0.417949</td>\n",
       "      <td>0</td>\n",
       "      <td>1</td>\n",
       "      <td>0</td>\n",
       "      <td>1</td>\n",
       "      <td>1</td>\n",
       "      <td>1</td>\n",
       "      <td>1</td>\n",
       "    </tr>\n",
       "    <tr>\n",
       "      <td>4</td>\n",
       "      <td>479</td>\n",
       "      <td>0.794100</td>\n",
       "      <td>1</td>\n",
       "      <td>0</td>\n",
       "      <td>0</td>\n",
       "      <td>1</td>\n",
       "      <td>2</td>\n",
       "      <td>3861</td>\n",
       "      <td>4178</td>\n",
       "      <td>11905</td>\n",
       "      <td>...</td>\n",
       "      <td>0.254237</td>\n",
       "      <td>0.556430</td>\n",
       "      <td>0.462520</td>\n",
       "      <td>0</td>\n",
       "      <td>1</td>\n",
       "      <td>1</td>\n",
       "      <td>1</td>\n",
       "      <td>1</td>\n",
       "      <td>1</td>\n",
       "      <td>1</td>\n",
       "    </tr>\n",
       "  </tbody>\n",
       "</table>\n",
       "<p>5 rows × 33 columns</p>\n",
       "</div>"
      ],
      "text/plain": [
       "   size  retention  branches  online_only  under_investigation  \\\n",
       "0    27   0.333300         1            0                    0   \n",
       "1    68   0.473700         1            0                    0   \n",
       "2   109   0.809500         1            0                    0   \n",
       "3  3256   0.703723         1            0                    0   \n",
       "4   479   0.794100         1            0                    0   \n",
       "\n",
       "   most_common_degree  highest_degree  faculty_salary  \\\n",
       "0                   3               3            2201   \n",
       "1                   1               2            5554   \n",
       "2                   1               2            6054   \n",
       "3                   1               3            4004   \n",
       "4                   1               2            3861   \n",
       "\n",
       "   instructional_expenditure_per_fte  tuition_revenue_per_fte  ...  \\\n",
       "0                               9585                     8132  ...   \n",
       "1                              18174                    12989  ...   \n",
       "2                              38265                     3587  ...   \n",
       "3                               2617                     8755  ...   \n",
       "4                               4178                    11905  ...   \n",
       "\n",
       "   fafsa_sent  7_yr_repayment_completion  5_year_declining_balance  relig_y_n  \\\n",
       "0    0.463652                   0.699542                  0.496850          1   \n",
       "1    0.463652                   0.699542                  0.496850          1   \n",
       "2    0.463652                   0.699542                  0.496850          0   \n",
       "3    0.310288                   0.725806                  0.417949          0   \n",
       "4    0.254237                   0.556430                  0.462520          0   \n",
       "\n",
       "   accred_y_n  retention_listed_y_n  fac_salary_listed_y_n  \\\n",
       "0           1                     1                      1   \n",
       "1           1                     1                      1   \n",
       "2           1                     1                      1   \n",
       "3           1                     0                      1   \n",
       "4           1                     1                      1   \n",
       "\n",
       "   7_yr_repayment_completion_y_n  5_year_declining_balance_y_n  for_profit  \n",
       "0                              0                             0           0  \n",
       "1                              0                             0           0  \n",
       "2                              0                             0           0  \n",
       "3                              1                             1           1  \n",
       "4                              1                             1           1  \n",
       "\n",
       "[5 rows x 33 columns]"
      ]
     },
     "execution_count": 77,
     "metadata": {
     },
     "output_type": "execute_result"
    }
   ],
   "source": [
    "X = df[['size','retention','branches', 'online_only', 'under_investigation', 'most_common_degree', 'highest_degree',\n",
    "       'faculty_salary', 'instructional_expenditure_per_fte',\n",
    "       'tuition_revenue_per_fte', 'part_time_share',\n",
    "       'age_entry', 'percent_dependent', 'first_generation', 'percent_black',\n",
    "        'avg_family_income','ind_low_income', 'dep_low_income', 'loan_principal',\n",
    "       'federal_loan_rate', 'students_with_any_loans',\n",
    "       'pell_grant_debt', 'percent_pell_grant',\n",
    "       'fafsa_sent', '7_yr_repayment_completion', '5_year_declining_balance',\n",
    "       'relig_y_n', 'accred_y_n', 'retention_listed_y_n',\n",
    "       'fac_salary_listed_y_n', '7_yr_repayment_completion_y_n',\n",
    "       '5_year_declining_balance_y_n', 'for_profit']]\n",
    "X.head()"
   ]
  },
  {
   "cell_type": "code",
   "execution_count": 0,
   "metadata": {
    "collapsed": false
   },
   "outputs": [
   ],
   "source": [
   ]
  },
  {
   "cell_type": "markdown",
   "metadata": {
    "collapsed": false
   },
   "source": [
    "Let's first use a method called [SelectKBest](https://scikit-learn.org/stable/modules/generated/sklearn.feature_selection.chi2.html) to see which features have the most statistically significant relationships with profit status. The **lower** the p value, the **more** statistically significant:"
   ]
  },
  {
   "cell_type": "code",
   "execution_count": 78,
   "metadata": {
    "collapsed": false
   },
   "outputs": [
    {
     "name": "stdout",
     "output_type": "stream",
     "text": [
      "chi2-value feature\n"
     ]
    },
    {
     "data": {
      "text/plain": [
       "[(0.0, 'avg_family_income'),\n",
       " (0.0, 'branches'),\n",
       " (0.0, 'faculty_salary'),\n",
       " (0.0, 'instructional_expenditure_per_fte'),\n",
       " (0.0, 'loan_principal'),\n",
       " (0.0, 'pell_grant_debt'),\n",
       " (0.0, 'size'),\n",
       " (0.0, 'tuition_revenue_per_fte'),\n",
       " (5.339096890496358e-283, 'highest_degree'),\n",
       " (2.3550018048916394e-222, 'most_common_degree'),\n",
       " (5.4025502611485345e-149, 'fac_salary_listed_y_n'),\n",
       " (8.240679129762035e-148, 'relig_y_n'),\n",
       " (5.293172158552389e-143, 'age_entry'),\n",
       " (1.4125160311605584e-48, 'percent_dependent'),\n",
       " (1.4293811306586728e-24, '5_year_declining_balance'),\n",
       " (1.3527931483012968e-21, 'federal_loan_rate'),\n",
       " (6.095800240149601e-17, 'percent_black'),\n",
       " (3.249757484509366e-15, 'fafsa_sent'),\n",
       " (2.3099399670297893e-10, '7_yr_repayment_completion'),\n",
       " (5.332261659651424e-09, 'first_generation'),\n",
       " (1.407934457452164e-08, 'part_time_share'),\n",
       " (1.516370320447573e-08, 'dep_low_income'),\n",
       " (5.389960032435474e-08, 'percent_pell_grant'),\n",
       " (2.9423628117768117e-06, 'students_with_any_loans'),\n",
       " (9.035892891499908e-06, 'under_investigation'),\n",
       " (0.006314439338573356, 'retention_listed_y_n'),\n",
       " (0.012536378966747178, 'online_only'),\n",
       " (0.01746153785302242, 'ind_low_income'),\n",
       " (0.5021649291685133, '5_year_declining_balance_y_n'),\n",
       " (0.6158853388832516, 'retention'),\n",
       " (0.8250416943743915, 'accred_y_n'),\n",
       " (0.9230148052834302, '7_yr_repayment_completion_y_n')]"
      ]
     },
     "execution_count": 78,
     "metadata": {
     },
     "output_type": "execute_result"
    }
   ],
   "source": [
    "y = X.pop('for_profit')\n",
    "\n",
    "X_new = SelectKBest(chi2, k=2).fit(X, y)\n",
    "\n",
    "features = []\n",
    "for i, column in enumerate(X.columns):\n",
    "    features.append((X_new.pvalues_[i], column))\n",
    "features.sort()\n",
    "print('chi2-value', 'feature')\n",
    "features"
   ]
  },
  {
   "cell_type": "markdown",
   "metadata": {
    "collapsed": false
   },
   "source": [
    "1.Based on the info above, what was intuitive? What was surprising? How big (or small) of an effect does accredition have on for-profit status? What might be some guesses as to why this is the case?"
   ]
  },
  {
   "cell_type": "code",
   "execution_count": 45,
   "metadata": {
    "collapsed": false
   },
   "outputs": [
   ],
   "source": [
    "#Intuitive: the average family income, branches, faculty salary, instructional expenditure per fte, loan principal, pell grant debt and size are the most relevant features in determining profit status.\n",
    "#Surprising: the degree offered by the college doesn't have a lot effect on its profit status.\n",
    "#Profit status has about 0.83 dependence on accreditation\n",
    "#Accreditation is important because it provides a good reference to school selection, however, it is not the most determinant feature of profit status because some unaccreditated programs can also have valuable courses"
   ]
  },
  {
   "cell_type": "markdown",
   "metadata": {
    "collapsed": false
   },
   "source": [
    "2.Do a test/train split and give the testing accuracy error for logistic regression."
   ]
  },
  {
   "cell_type": "code",
   "execution_count": 79,
   "metadata": {
    "collapsed": false
   },
   "outputs": [
    {
     "name": "stdout",
     "output_type": "stream",
     "text": [
      "0.8982619754133108\n"
     ]
    }
   ],
   "source": [
    "X_train, X_test, y_train, y_test = train_test_split(X, y, shuffle=True, test_size=0.7)\n",
    "\n",
    "model = LogisticRegression(multi_class = \"auto\", solver = 'lbfgs', max_iter=10000)\n",
    "model.fit(X_test, y_test)\n",
    "print(model.score(X_test,y_test))"
   ]
  },
  {
   "cell_type": "markdown",
   "metadata": {
    "collapsed": false
   },
   "source": [
    "3.Find the optimal number of nearest neighbors for KNN using grid search and then give the test accuracy. "
   ]
  },
  {
   "cell_type": "code",
   "execution_count": 47,
   "metadata": {
    "collapsed": false
   },
   "outputs": [
    {
     "name": "stdout",
     "output_type": "stream",
     "text": [
      "{'n_neighbors': 5} KNeighborsClassifier(algorithm='auto', leaf_size=30, metric='minkowski',\n",
      "                     metric_params=None, n_jobs=None, n_neighbors=5, p=2,\n",
      "                     weights='uniform')\n"
     ]
    }
   ],
   "source": [
    "param_grid = {'n_neighbors': range(1, 20)}\n",
    "\n",
    "model = GridSearchCV(KNeighborsClassifier(), \n",
    "                    param_grid, \n",
    "                    cv=3, \n",
    "                    scoring='accuracy')\n",
    "\n",
    "model = model.fit(X_train, y_train)\n",
    "\n",
    "print(model.best_params_, model.best_estimator_)"
   ]
  },
  {
   "cell_type": "code",
   "execution_count": 48,
   "metadata": {
    "collapsed": false
   },
   "outputs": [
    {
     "name": "stdout",
     "output_type": "stream",
     "text": [
      "0.8910555320050869\n"
     ]
    }
   ],
   "source": [
    "model = model.best_estimator_\n",
    "\n",
    "print(model.score(X_test, y_test))"
   ]
  },
  {
   "cell_type": "markdown",
   "metadata": {
    "collapsed": false
   },
   "source": [
    "4.Run a classification report and describe in detail what the terms mean in the context of your model."
   ]
  },
  {
   "cell_type": "code",
   "execution_count": 49,
   "metadata": {
    "collapsed": false
   },
   "outputs": [
    {
     "name": "stdout",
     "output_type": "stream",
     "text": [
      "              precision    recall  f1-score   support\n",
      "\n",
      "           0       0.92      0.90      0.91      3835\n",
      "           1       0.87      0.89      0.88      2905\n",
      "\n",
      "    accuracy                           0.90      6740\n",
      "   macro avg       0.90      0.90      0.90      6740\n",
      "weighted avg       0.90      0.90      0.90      6740\n",
      "\n"
     ]
    }
   ],
   "source": [
    "model = LogisticRegression(multi_class = \"auto\", solver = 'lbfgs', max_iter=10000)\n",
    "model.fit(X_train, y_train)\n",
    "\n",
    "print(classification_report(y, model.predict(X)))"
   ]
  },
  {
   "cell_type": "code",
   "execution_count": 50,
   "metadata": {
    "collapsed": false
   },
   "outputs": [
   ],
   "source": [
    "#With a precision score of 92%, out of all cases predicted as profit, we find 98% of them. With a recall score of 90%, out of all digit non profits, we found 90% of them.\n",
    "#With a precision score of 87%, out of all cases predicted as non profit, we find 87% of them. With a recall score of 90%, out of all digit profits , we found 90% of them."
   ]
  },
  {
   "cell_type": "markdown",
   "metadata": {
    "collapsed": false
   },
   "source": [
    "5.Print a confusion matrix and describe what it means in your context."
   ]
  },
  {
   "cell_type": "code",
   "execution_count": 51,
   "metadata": {
    "collapsed": false,
    "scrolled": true
   },
   "outputs": [
    {
     "data": {
      "text/plain": [
       "array([[2394,  267],\n",
       "       [ 228, 1829]])"
      ]
     },
     "execution_count": 51,
     "metadata": {
     },
     "output_type": "execute_result"
    }
   ],
   "source": [
    "confusion_matrix(y_test, model.predict(X_test))"
   ]
  },
  {
   "cell_type": "code",
   "execution_count": 52,
   "metadata": {
    "collapsed": false
   },
   "outputs": [
    {
     "data": {
      "text/plain": [
       "array([0, 1])"
      ]
     },
     "execution_count": 52,
     "metadata": {
     },
     "output_type": "execute_result"
    }
   ],
   "source": [
    "model.classes_"
   ]
  },
  {
   "cell_type": "code",
   "execution_count": 53,
   "metadata": {
    "collapsed": false
   },
   "outputs": [
   ],
   "source": [
    "#Out of all the non profit colleges, 2418 are correctly classified while 263 are incorrectly classified as profit\n",
    "#Out of all the profit colleges, 1821 are correctly classified while 216 are incorrectly classified as non profit"
   ]
  },
  {
   "cell_type": "markdown",
   "metadata": {
    "collapsed": false
   },
   "source": [
    "6.Make a comparative ROC plot of the naive bayes, logistic, gradient boosting, and KNN classifiers."
   ]
  },
  {
   "cell_type": "code",
   "execution_count": 18,
   "metadata": {
    "collapsed": false
   },
   "outputs": [
    {
     "data": {
      "text/html": [
       "<div>\n",
       "<style scoped>\n",
       "    .dataframe tbody tr th:only-of-type {\n",
       "        vertical-align: middle;\n",
       "    }\n",
       "\n",
       "    .dataframe tbody tr th {\n",
       "        vertical-align: top;\n",
       "    }\n",
       "\n",
       "    .dataframe thead th {\n",
       "        text-align: right;\n",
       "    }\n",
       "</style>\n",
       "<table border=\"1\" class=\"dataframe\">\n",
       "  <thead>\n",
       "    <tr style=\"text-align: right;\">\n",
       "      <th></th>\n",
       "      <th>0</th>\n",
       "      <th>1</th>\n",
       "      <th>2</th>\n",
       "      <th>3</th>\n",
       "      <th>4</th>\n",
       "      <th>5</th>\n",
       "      <th>6</th>\n",
       "      <th>7</th>\n",
       "      <th>8</th>\n",
       "      <th>9</th>\n",
       "      <th>...</th>\n",
       "      <th>23</th>\n",
       "      <th>24</th>\n",
       "      <th>25</th>\n",
       "      <th>26</th>\n",
       "      <th>27</th>\n",
       "      <th>28</th>\n",
       "      <th>29</th>\n",
       "      <th>30</th>\n",
       "      <th>31</th>\n",
       "      <th>32</th>\n",
       "    </tr>\n",
       "  </thead>\n",
       "  <tbody>\n",
       "    <tr>\n",
       "      <td>0</td>\n",
       "      <td>-0.467851</td>\n",
       "      <td>-2.381226e+00</td>\n",
       "      <td>-0.302187</td>\n",
       "      <td>-0.075299</td>\n",
       "      <td>-0.101702</td>\n",
       "      <td>1.103434</td>\n",
       "      <td>0.562069</td>\n",
       "      <td>-2.285946</td>\n",
       "      <td>0.211986</td>\n",
       "      <td>-0.226511</td>\n",
       "      <td>...</td>\n",
       "      <td>-1.202430e-14</td>\n",
       "      <td>4.111456e-15</td>\n",
       "      <td>5.109826e-15</td>\n",
       "      <td>2.572123</td>\n",
       "      <td>0.115018</td>\n",
       "      <td>0.486049</td>\n",
       "      <td>0.789502</td>\n",
       "      <td>-1.232731</td>\n",
       "      <td>-1.862658</td>\n",
       "      <td>-0.870343</td>\n",
       "    </tr>\n",
       "    <tr>\n",
       "      <td>1</td>\n",
       "      <td>-0.460360</td>\n",
       "      <td>-1.478679e+00</td>\n",
       "      <td>-0.302187</td>\n",
       "      <td>-0.075299</td>\n",
       "      <td>-0.101702</td>\n",
       "      <td>-0.830804</td>\n",
       "      <td>-0.197423</td>\n",
       "      <td>-0.427946</td>\n",
       "      <td>1.104804</td>\n",
       "      <td>0.338821</td>\n",
       "      <td>...</td>\n",
       "      <td>-1.202430e-14</td>\n",
       "      <td>4.111456e-15</td>\n",
       "      <td>5.109826e-15</td>\n",
       "      <td>2.572123</td>\n",
       "      <td>0.115018</td>\n",
       "      <td>0.486049</td>\n",
       "      <td>0.789502</td>\n",
       "      <td>-1.232731</td>\n",
       "      <td>-1.862658</td>\n",
       "      <td>-0.870343</td>\n",
       "    </tr>\n",
       "    <tr>\n",
       "      <td>2</td>\n",
       "      <td>-0.452870</td>\n",
       "      <td>6.799767e-01</td>\n",
       "      <td>-0.302187</td>\n",
       "      <td>-0.075299</td>\n",
       "      <td>-0.101702</td>\n",
       "      <td>-0.830804</td>\n",
       "      <td>-0.197423</td>\n",
       "      <td>-0.150880</td>\n",
       "      <td>3.193243</td>\n",
       "      <td>-0.755528</td>\n",
       "      <td>...</td>\n",
       "      <td>-1.202430e-14</td>\n",
       "      <td>4.111456e-15</td>\n",
       "      <td>5.109826e-15</td>\n",
       "      <td>-0.388784</td>\n",
       "      <td>0.115018</td>\n",
       "      <td>0.486049</td>\n",
       "      <td>0.789502</td>\n",
       "      <td>-1.232731</td>\n",
       "      <td>-1.862658</td>\n",
       "      <td>-0.870343</td>\n",
       "    </tr>\n",
       "    <tr>\n",
       "      <td>3</td>\n",
       "      <td>0.122063</td>\n",
       "      <td>7.850651e-15</td>\n",
       "      <td>-0.302187</td>\n",
       "      <td>-0.075299</td>\n",
       "      <td>-0.101702</td>\n",
       "      <td>-0.830804</td>\n",
       "      <td>0.562069</td>\n",
       "      <td>-1.286848</td>\n",
       "      <td>-0.512331</td>\n",
       "      <td>-0.153997</td>\n",
       "      <td>...</td>\n",
       "      <td>-1.071621e+00</td>\n",
       "      <td>1.945300e-01</td>\n",
       "      <td>-4.539314e-01</td>\n",
       "      <td>-0.388784</td>\n",
       "      <td>0.115018</td>\n",
       "      <td>-2.057406</td>\n",
       "      <td>0.789502</td>\n",
       "      <td>0.811207</td>\n",
       "      <td>0.536867</td>\n",
       "      <td>1.148972</td>\n",
       "    </tr>\n",
       "    <tr>\n",
       "      <td>4</td>\n",
       "      <td>-0.385274</td>\n",
       "      <td>5.809794e-01</td>\n",
       "      <td>-0.302187</td>\n",
       "      <td>-0.075299</td>\n",
       "      <td>-0.101702</td>\n",
       "      <td>-0.830804</td>\n",
       "      <td>-0.197423</td>\n",
       "      <td>-1.366089</td>\n",
       "      <td>-0.350067</td>\n",
       "      <td>0.212648</td>\n",
       "      <td>...</td>\n",
       "      <td>-1.463269e+00</td>\n",
       "      <td>-1.059960e+00</td>\n",
       "      <td>-1.975064e-01</td>\n",
       "      <td>-0.388784</td>\n",
       "      <td>0.115018</td>\n",
       "      <td>0.486049</td>\n",
       "      <td>0.789502</td>\n",
       "      <td>0.811207</td>\n",
       "      <td>0.536867</td>\n",
       "      <td>1.148972</td>\n",
       "    </tr>\n",
       "  </tbody>\n",
       "</table>\n",
       "<p>5 rows × 33 columns</p>\n",
       "</div>"
      ],
      "text/plain": [
       "         0             1         2         3         4         5         6   \\\n",
       "0 -0.467851 -2.381226e+00 -0.302187 -0.075299 -0.101702  1.103434  0.562069   \n",
       "1 -0.460360 -1.478679e+00 -0.302187 -0.075299 -0.101702 -0.830804 -0.197423   \n",
       "2 -0.452870  6.799767e-01 -0.302187 -0.075299 -0.101702 -0.830804 -0.197423   \n",
       "3  0.122063  7.850651e-15 -0.302187 -0.075299 -0.101702 -0.830804  0.562069   \n",
       "4 -0.385274  5.809794e-01 -0.302187 -0.075299 -0.101702 -0.830804 -0.197423   \n",
       "\n",
       "         7         8         9   ...            23            24  \\\n",
       "0 -2.285946  0.211986 -0.226511  ... -1.202430e-14  4.111456e-15   \n",
       "1 -0.427946  1.104804  0.338821  ... -1.202430e-14  4.111456e-15   \n",
       "2 -0.150880  3.193243 -0.755528  ... -1.202430e-14  4.111456e-15   \n",
       "3 -1.286848 -0.512331 -0.153997  ... -1.071621e+00  1.945300e-01   \n",
       "4 -1.366089 -0.350067  0.212648  ... -1.463269e+00 -1.059960e+00   \n",
       "\n",
       "             25        26        27        28        29        30        31  \\\n",
       "0  5.109826e-15  2.572123  0.115018  0.486049  0.789502 -1.232731 -1.862658   \n",
       "1  5.109826e-15  2.572123  0.115018  0.486049  0.789502 -1.232731 -1.862658   \n",
       "2  5.109826e-15 -0.388784  0.115018  0.486049  0.789502 -1.232731 -1.862658   \n",
       "3 -4.539314e-01 -0.388784  0.115018 -2.057406  0.789502  0.811207  0.536867   \n",
       "4 -1.975064e-01 -0.388784  0.115018  0.486049  0.789502  0.811207  0.536867   \n",
       "\n",
       "         32  \n",
       "0 -0.870343  \n",
       "1 -0.870343  \n",
       "2 -0.870343  \n",
       "3  1.148972  \n",
       "4  1.148972  \n",
       "\n",
       "[5 rows x 33 columns]"
      ]
     },
     "execution_count": 18,
     "metadata": {
     },
     "output_type": "execute_result"
    }
   ],
   "source": [
    "X_scaler = StandardScaler()\n",
    "X = X_scaler.fit_transform(X)\n",
    "X = pd.DataFrame(X)\n",
    "X.head()"
   ]
  },
  {
   "cell_type": "code",
   "execution_count": 90,
   "metadata": {
    "collapsed": false
   },
   "outputs": [
    {
     "data": {
      "image/png": "[encoded data removed]",
      "text/plain": [
       "<Figure size 432x288 with 1 Axes>"
      ]
     },
     "execution_count": 90,
     "metadata": {
      "image/png": {
       "height": 277,
       "width": 385
      }
     },
     "output_type": "execute_result"
    }
   ],
   "source": [
    "y_proba_LR = model.predict_proba(X_test)[:, 1]\n",
    "\n",
    "def plot_roc(ytrue, yproba, model, title='some ROC curve'):\n",
    "    auc = roc_auc_score(ytrue, yproba)\n",
    "    fpr, tpr, thr = roc_curve(ytrue, yproba)\n",
    "    plt.plot([0, 1], [0, 1], color='k', linestyle='--', linewidth=.4)\n",
    "    plt.plot(fpr, tpr, label='{} auc={:.2f}%'.format(model, auc*100))\n",
    "    plt.axis('equal')\n",
    "    plt.xlim([-.02, 1.02])\n",
    "    plt.ylim([-.02, 1.02])\n",
    "    plt.ylabel('tpr')\n",
    "    plt.xlabel('fpr')\n",
    "    plt.title(title)\n",
    "    plt.legend(loc='best')\n",
    "    plt.grid(True)\n",
    "    \n",
    "plot_roc(y_test, y_proba_LR, \"Log Reg\")"
   ]
  },
  {
   "cell_type": "code",
   "execution_count": 91,
   "metadata": {
    "collapsed": false
   },
   "outputs": [
   ],
   "source": [
    "model = GradientBoostingClassifier()\n",
    "model.fit(X_train, y_train)\n",
    "y_proba_GB = model.predict_proba(X_test)[:, 1]"
   ]
  },
  {
   "cell_type": "code",
   "execution_count": 92,
   "metadata": {
    "collapsed": false
   },
   "outputs": [
   ],
   "source": [
    "model = KNeighborsClassifier(n_neighbors = 3)\n",
    "model.fit(X_train, y_train)\n",
    "y_proba_KNN = model.predict_proba(X_test)[:, 1]"
   ]
  },
  {
   "cell_type": "code",
   "execution_count": 93,
   "metadata": {
    "collapsed": false
   },
   "outputs": [
    {
     "data": {
      "image/png": "[encoded data removed]",
      "text/plain": [
       "<Figure size 432x288 with 1 Axes>"
      ]
     },
     "execution_count": 93,
     "metadata": {
      "image/png": {
       "height": 277,
       "width": 385
      }
     },
     "output_type": "execute_result"
    }
   ],
   "source": [
    "model = naive_bayes.GaussianNB()\n",
    "model.fit(X_train, y_train)\n",
    "y_proba_NB = model.predict_proba(X_test)[:, 1]\n",
    "\n",
    "plot_roc(y_test, y_proba_NB, \"Naive Bayes\")\n",
    "plot_roc(y_test, y_proba_GB, \"Gradient Boosting\")\n",
    "plot_roc(y_test, y_proba_LR, \"Log Regression\")\n",
    "plot_roc(y_test, y_proba_KNN, \"KNeighbors\")"
   ]
  },
  {
   "cell_type": "markdown",
   "metadata": {
    "collapsed": true
   },
   "source": [
    "7.Using the logarithmic regression model, plot a decision boundary between instructional_expenditure_per_fte and 5_year_declining_balance. Does it appear that for-profit status has a clear boundary based on these predictors?"
   ]
  },
  {
   "cell_type": "code",
   "execution_count": 8,
   "metadata": {
    "collapsed": false
   },
   "outputs": [
   ],
   "source": [
    "X =df[['instructional_expenditure_per_fte','5_year_declining_balance']]\n",
    "X_scaler = StandardScaler()\n",
    "X = X_scaler.fit_transform(X)\n",
    "X = pd.DataFrame(X)"
   ]
  },
  {
   "cell_type": "code",
   "execution_count": 9,
   "metadata": {
    "collapsed": false
   },
   "outputs": [
    {
     "data": {
      "text/plain": [
       "LogisticRegression(C=1.0, class_weight=None, dual=False, fit_intercept=True,\n",
       "                   intercept_scaling=1, l1_ratio=None, max_iter=10000,\n",
       "                   multi_class='auto', n_jobs=None, penalty='l2',\n",
       "                   random_state=None, solver='lbfgs', tol=0.0001, verbose=0,\n",
       "                   warm_start=False)"
      ]
     },
     "execution_count": 9,
     "metadata": {
     },
     "output_type": "execute_result"
    }
   ],
   "source": [
    "model = LogisticRegression(multi_class = \"auto\", solver = 'lbfgs', max_iter=10000)\n",
    "model.fit(X, y)"
   ]
  },
  {
   "cell_type": "code",
   "execution_count": 10,
   "metadata": {
    "collapsed": false
   },
   "outputs": [
    {
     "data": {
      "image/png": "[encoded data removed]",
      "text/plain": [
       "<Figure size 288x216 with 1 Axes>"
      ]
     },
     "execution_count": 10,
     "metadata": {
      "image/png": {
       "height": 222,
       "width": 279
      }
     },
     "output_type": "execute_result"
    }
   ],
   "source": [
    "Q = X.values\n",
    "h = .02  # meshsize\n",
    "x_min, x_max = Q[:, 0].min() - .5, Q[:, 0].max() + .5 \n",
    "y_min, y_max = Q[:, 1].min() - .5, Q[:, 1].max() + .5\n",
    "xx, yy = np.meshgrid(np.arange(x_min, x_max, h), np.arange(y_min, y_max, h))\n",
    "model.fit(X.iloc[:,0:2], y)\n",
    "Z = model.predict(np.c_[xx.ravel(), yy.ravel()]) # ravel() flattens the data\n",
    "\n",
    "# Put the result into a color plot\n",
    "Z = Z.reshape(xx.shape)\n",
    "plt.figure(1, figsize=(4, 3))\n",
    "plt.pcolormesh(xx, yy, Z, cmap=plt.cm.Paired)\n",
    "\n",
    "# Plot also the training points\n",
    "plt.scatter(Q[:, 0], Q[:, 1], c=y, edgecolors='k', cmap=plt.cm.Paired)\n",
    "plt.title('Decision boundaries with 2 attributes')\n",
    "plt.xlabel('Sepal length')\n",
    "plt.ylabel('For Profit')\n",
    "\n",
    "plt.xlim(xx.min(), 10)\n",
    "plt.ylim(yy.min(), yy.max())\n",
    "plt.show()"
   ]
  },
  {
   "cell_type": "markdown",
   "metadata": {
    "collapsed": false,
    "scrolled": true
   },
   "source": [
    "8.We have not covered random forests but they are a very popular type of classifier. It is very good practice in reading the docs to get a new classifier working. Read [this](https://scikit-learn.org/stable/modules/generated/sklearn.ensemble.RandomForestClassifier.html) and then apply the RandomForestClassifier()."
   ]
  },
  {
   "cell_type": "code",
   "execution_count": 88,
   "metadata": {
    "collapsed": false
   },
   "outputs": [
    {
     "name": "stdout",
     "output_type": "stream",
     "text": [
      "[0.14313009 0.01213594 0.02933992 0.04619823 0.06407786 0.01315048\n",
      " 0.07053381 0.06493158 0.01669086 0.03812701 0.08114242 0.03907387\n",
      " 0.01321193 0.03661302 0.01644017 0.0128298  0.02292181 0.0344527\n",
      " 0.03804569 0.01887642 0.02049526 0.02516675 0.03659061 0.03668337\n",
      " 0.00313027 0.00066903 0.01076279 0.00543996 0.0033071  0.03919754\n",
      " 0.00458174 0.00205196]\n",
      "0.9347181008902077\n"
     ]
    },
    {
     "name": "stderr",
     "output_type": "stream",
     "text": [
      "/usr/local/lib/python3.6/dist-packages/sklearn/ensemble/forest.py:245: FutureWarning: The default value of n_estimators will change from 10 in version 0.20 to 100 in 0.22.\n",
      "  \"10 in version 0.20 to 100 in 0.22.\", FutureWarning)\n"
     ]
    }
   ],
   "source": [
    "model = RandomForestClassifier()\n",
    "model.fit(X_train, y_train)\n",
    "print(model.feature_importances_)\n",
    "print(model.score(X_test, y_test))\n",
    "y_proba_RF = model.predict_proba(X_test)[:, 1]"
   ]
  },
  {
   "cell_type": "markdown",
   "metadata": {
    "collapsed": false
   },
   "source": [
    "9.Support vector machines are another type of classifier. Read the docs [here](https://scikit-learn.org/stable/modules/generated/sklearn.svm.SVC.html) and then try implementing that one."
   ]
  },
  {
   "cell_type": "code",
   "execution_count": 15,
   "metadata": {
    "collapsed": false
   },
   "outputs": [
    {
     "name": "stdout",
     "output_type": "stream",
     "text": [
      "<class 'pandas.core.frame.DataFrame'>\n",
      "Int64Index: 6740 entries, 0 to 7541\n",
      "Data columns (total 33 columns):\n",
      "size                                 6740 non-null int64\n",
      "retention                            6740 non-null float64\n",
      "branches                             6740 non-null int64\n",
      "online_only                          6740 non-null int64\n",
      "under_investigation                  6740 non-null int64\n",
      "most_common_degree                   6740 non-null int64\n",
      "highest_degree                       6740 non-null int64\n",
      "faculty_salary                       6740 non-null int64\n",
      "instructional_expenditure_per_fte    6740 non-null int64\n",
      "tuition_revenue_per_fte              6740 non-null int64\n",
      "part_time_share                      6740 non-null float64\n",
      "age_entry                            6740 non-null int64\n",
      "percent_dependent                    6740 non-null float64\n",
      "first_generation                     6740 non-null float64\n",
      "percent_black                        6740 non-null float64\n",
      "avg_family_income                    6740 non-null int64\n",
      "ind_low_income                       6740 non-null float64\n",
      "dep_low_income                       6740 non-null float64\n",
      "loan_principal                       6740 non-null int64\n",
      "federal_loan_rate                    6740 non-null float64\n",
      "students_with_any_loans              6740 non-null float64\n",
      "pell_grant_debt                      6740 non-null float64\n",
      "percent_pell_grant                   6740 non-null float64\n",
      "fafsa_sent                           6740 non-null float64\n",
      "7_yr_repayment_completion            6740 non-null float64\n",
      "5_year_declining_balance             6740 non-null float64\n",
      "relig_y_n                            6740 non-null int64\n",
      "accred_y_n                           6740 non-null int64\n",
      "retention_listed_y_n                 6740 non-null int64\n",
      "fac_salary_listed_y_n                6740 non-null int64\n",
      "7_yr_repayment_completion_y_n        6740 non-null int64\n",
      "5_year_declining_balance_y_n         6740 non-null int64\n",
      "for_profit                           6740 non-null int64\n",
      "dtypes: float64(14), int64(19)\n",
      "memory usage: 1.7 MB\n"
     ]
    }
   ],
   "source": [
    "X.info()"
   ]
  },
  {
   "cell_type": "code",
   "execution_count": 16,
   "metadata": {
    "collapsed": false
   },
   "outputs": [
    {
     "data": {
      "text/html": [
       "<div>\n",
       "<style scoped>\n",
       "    .dataframe tbody tr th:only-of-type {\n",
       "        vertical-align: middle;\n",
       "    }\n",
       "\n",
       "    .dataframe tbody tr th {\n",
       "        vertical-align: top;\n",
       "    }\n",
       "\n",
       "    .dataframe thead th {\n",
       "        text-align: right;\n",
       "    }\n",
       "</style>\n",
       "<table border=\"1\" class=\"dataframe\">\n",
       "  <thead>\n",
       "    <tr style=\"text-align: right;\">\n",
       "      <th></th>\n",
       "      <th>size</th>\n",
       "      <th>branches</th>\n",
       "      <th>online_only</th>\n",
       "      <th>under_investigation</th>\n",
       "      <th>most_common_degree</th>\n",
       "      <th>highest_degree</th>\n",
       "      <th>faculty_salary</th>\n",
       "      <th>instructional_expenditure_per_fte</th>\n",
       "      <th>tuition_revenue_per_fte</th>\n",
       "      <th>age_entry</th>\n",
       "      <th>avg_family_income</th>\n",
       "      <th>loan_principal</th>\n",
       "      <th>relig_y_n</th>\n",
       "      <th>accred_y_n</th>\n",
       "      <th>retention_listed_y_n</th>\n",
       "      <th>fac_salary_listed_y_n</th>\n",
       "      <th>7_yr_repayment_completion_y_n</th>\n",
       "      <th>5_year_declining_balance_y_n</th>\n",
       "      <th>for_profit</th>\n",
       "    </tr>\n",
       "  </thead>\n",
       "  <tbody>\n",
       "    <tr>\n",
       "      <td>0</td>\n",
       "      <td>27</td>\n",
       "      <td>1</td>\n",
       "      <td>0</td>\n",
       "      <td>0</td>\n",
       "      <td>3</td>\n",
       "      <td>3</td>\n",
       "      <td>2201</td>\n",
       "      <td>9585</td>\n",
       "      <td>8132</td>\n",
       "      <td>21</td>\n",
       "      <td>49891</td>\n",
       "      <td>11443</td>\n",
       "      <td>1</td>\n",
       "      <td>1</td>\n",
       "      <td>1</td>\n",
       "      <td>1</td>\n",
       "      <td>0</td>\n",
       "      <td>0</td>\n",
       "      <td>0</td>\n",
       "    </tr>\n",
       "    <tr>\n",
       "      <td>1</td>\n",
       "      <td>68</td>\n",
       "      <td>1</td>\n",
       "      <td>0</td>\n",
       "      <td>0</td>\n",
       "      <td>1</td>\n",
       "      <td>2</td>\n",
       "      <td>5554</td>\n",
       "      <td>18174</td>\n",
       "      <td>12989</td>\n",
       "      <td>23</td>\n",
       "      <td>4140</td>\n",
       "      <td>5593</td>\n",
       "      <td>1</td>\n",
       "      <td>1</td>\n",
       "      <td>1</td>\n",
       "      <td>1</td>\n",
       "      <td>0</td>\n",
       "      <td>0</td>\n",
       "      <td>0</td>\n",
       "    </tr>\n",
       "    <tr>\n",
       "      <td>2</td>\n",
       "      <td>109</td>\n",
       "      <td>1</td>\n",
       "      <td>0</td>\n",
       "      <td>0</td>\n",
       "      <td>1</td>\n",
       "      <td>2</td>\n",
       "      <td>6054</td>\n",
       "      <td>38265</td>\n",
       "      <td>3587</td>\n",
       "      <td>25</td>\n",
       "      <td>13233</td>\n",
       "      <td>11443</td>\n",
       "      <td>0</td>\n",
       "      <td>1</td>\n",
       "      <td>1</td>\n",
       "      <td>1</td>\n",
       "      <td>0</td>\n",
       "      <td>0</td>\n",
       "      <td>0</td>\n",
       "    </tr>\n",
       "    <tr>\n",
       "      <td>3</td>\n",
       "      <td>3256</td>\n",
       "      <td>1</td>\n",
       "      <td>0</td>\n",
       "      <td>0</td>\n",
       "      <td>1</td>\n",
       "      <td>3</td>\n",
       "      <td>4004</td>\n",
       "      <td>2617</td>\n",
       "      <td>8755</td>\n",
       "      <td>28</td>\n",
       "      <td>26511</td>\n",
       "      <td>10047</td>\n",
       "      <td>0</td>\n",
       "      <td>1</td>\n",
       "      <td>0</td>\n",
       "      <td>1</td>\n",
       "      <td>1</td>\n",
       "      <td>1</td>\n",
       "      <td>1</td>\n",
       "    </tr>\n",
       "    <tr>\n",
       "      <td>4</td>\n",
       "      <td>479</td>\n",
       "      <td>1</td>\n",
       "      <td>0</td>\n",
       "      <td>0</td>\n",
       "      <td>1</td>\n",
       "      <td>2</td>\n",
       "      <td>3861</td>\n",
       "      <td>4178</td>\n",
       "      <td>11905</td>\n",
       "      <td>27</td>\n",
       "      <td>27548</td>\n",
       "      <td>7832</td>\n",
       "      <td>0</td>\n",
       "      <td>1</td>\n",
       "      <td>1</td>\n",
       "      <td>1</td>\n",
       "      <td>1</td>\n",
       "      <td>1</td>\n",
       "      <td>1</td>\n",
       "    </tr>\n",
       "    <tr>\n",
       "      <td>...</td>\n",
       "      <td>...</td>\n",
       "      <td>...</td>\n",
       "      <td>...</td>\n",
       "      <td>...</td>\n",
       "      <td>...</td>\n",
       "      <td>...</td>\n",
       "      <td>...</td>\n",
       "      <td>...</td>\n",
       "      <td>...</td>\n",
       "      <td>...</td>\n",
       "      <td>...</td>\n",
       "      <td>...</td>\n",
       "      <td>...</td>\n",
       "      <td>...</td>\n",
       "      <td>...</td>\n",
       "      <td>...</td>\n",
       "      <td>...</td>\n",
       "      <td>...</td>\n",
       "      <td>...</td>\n",
       "    </tr>\n",
       "    <tr>\n",
       "      <td>7537</td>\n",
       "      <td>1976</td>\n",
       "      <td>1</td>\n",
       "      <td>0</td>\n",
       "      <td>0</td>\n",
       "      <td>2</td>\n",
       "      <td>2</td>\n",
       "      <td>6012</td>\n",
       "      <td>6574</td>\n",
       "      <td>2748</td>\n",
       "      <td>25</td>\n",
       "      <td>41341</td>\n",
       "      <td>5500</td>\n",
       "      <td>0</td>\n",
       "      <td>1</td>\n",
       "      <td>1</td>\n",
       "      <td>1</td>\n",
       "      <td>1</td>\n",
       "      <td>1</td>\n",
       "      <td>0</td>\n",
       "    </tr>\n",
       "    <tr>\n",
       "      <td>7538</td>\n",
       "      <td>2768</td>\n",
       "      <td>1</td>\n",
       "      <td>0</td>\n",
       "      <td>0</td>\n",
       "      <td>2</td>\n",
       "      <td>2</td>\n",
       "      <td>6451</td>\n",
       "      <td>7606</td>\n",
       "      <td>1881</td>\n",
       "      <td>25</td>\n",
       "      <td>43320</td>\n",
       "      <td>4500</td>\n",
       "      <td>0</td>\n",
       "      <td>1</td>\n",
       "      <td>1</td>\n",
       "      <td>1</td>\n",
       "      <td>1</td>\n",
       "      <td>1</td>\n",
       "      <td>0</td>\n",
       "    </tr>\n",
       "    <tr>\n",
       "      <td>7539</td>\n",
       "      <td>52</td>\n",
       "      <td>3</td>\n",
       "      <td>0</td>\n",
       "      <td>0</td>\n",
       "      <td>1</td>\n",
       "      <td>1</td>\n",
       "      <td>6326</td>\n",
       "      <td>8148</td>\n",
       "      <td>4570</td>\n",
       "      <td>26</td>\n",
       "      <td>23261</td>\n",
       "      <td>6354</td>\n",
       "      <td>0</td>\n",
       "      <td>1</td>\n",
       "      <td>1</td>\n",
       "      <td>0</td>\n",
       "      <td>1</td>\n",
       "      <td>1</td>\n",
       "      <td>1</td>\n",
       "    </tr>\n",
       "    <tr>\n",
       "      <td>7540</td>\n",
       "      <td>1085</td>\n",
       "      <td>2</td>\n",
       "      <td>0</td>\n",
       "      <td>0</td>\n",
       "      <td>1</td>\n",
       "      <td>2</td>\n",
       "      <td>6441</td>\n",
       "      <td>3104</td>\n",
       "      <td>13825</td>\n",
       "      <td>23</td>\n",
       "      <td>42518</td>\n",
       "      <td>9830</td>\n",
       "      <td>0</td>\n",
       "      <td>1</td>\n",
       "      <td>1</td>\n",
       "      <td>1</td>\n",
       "      <td>1</td>\n",
       "      <td>1</td>\n",
       "      <td>1</td>\n",
       "    </tr>\n",
       "    <tr>\n",
       "      <td>7541</td>\n",
       "      <td>9910</td>\n",
       "      <td>1</td>\n",
       "      <td>0</td>\n",
       "      <td>0</td>\n",
       "      <td>3</td>\n",
       "      <td>4</td>\n",
       "      <td>9124</td>\n",
       "      <td>14616</td>\n",
       "      <td>4549</td>\n",
       "      <td>23</td>\n",
       "      <td>65397</td>\n",
       "      <td>12000</td>\n",
       "      <td>0</td>\n",
       "      <td>1</td>\n",
       "      <td>1</td>\n",
       "      <td>1</td>\n",
       "      <td>1</td>\n",
       "      <td>1</td>\n",
       "      <td>0</td>\n",
       "    </tr>\n",
       "  </tbody>\n",
       "</table>\n",
       "<p>6740 rows × 19 columns</p>\n",
       "</div>"
      ],
      "text/plain": [
       "      size  branches  online_only  under_investigation  most_common_degree  \\\n",
       "0       27         1            0                    0                   3   \n",
       "1       68         1            0                    0                   1   \n",
       "2      109         1            0                    0                   1   \n",
       "3     3256         1            0                    0                   1   \n",
       "4      479         1            0                    0                   1   \n",
       "...    ...       ...          ...                  ...                 ...   \n",
       "7537  1976         1            0                    0                   2   \n",
       "7538  2768         1            0                    0                   2   \n",
       "7539    52         3            0                    0                   1   \n",
       "7540  1085         2            0                    0                   1   \n",
       "7541  9910         1            0                    0                   3   \n",
       "\n",
       "      highest_degree  faculty_salary  instructional_expenditure_per_fte  \\\n",
       "0                  3            2201                               9585   \n",
       "1                  2            5554                              18174   \n",
       "2                  2            6054                              38265   \n",
       "3                  3            4004                               2617   \n",
       "4                  2            3861                               4178   \n",
       "...              ...             ...                                ...   \n",
       "7537               2            6012                               6574   \n",
       "7538               2            6451                               7606   \n",
       "7539               1            6326                               8148   \n",
       "7540               2            6441                               3104   \n",
       "7541               4            9124                              14616   \n",
       "\n",
       "      tuition_revenue_per_fte  age_entry  avg_family_income  loan_principal  \\\n",
       "0                        8132         21              49891           11443   \n",
       "1                       12989         23               4140            5593   \n",
       "2                        3587         25              13233           11443   \n",
       "3                        8755         28              26511           10047   \n",
       "4                       11905         27              27548            7832   \n",
       "...                       ...        ...                ...             ...   \n",
       "7537                     2748         25              41341            5500   \n",
       "7538                     1881         25              43320            4500   \n",
       "7539                     4570         26              23261            6354   \n",
       "7540                    13825         23              42518            9830   \n",
       "7541                     4549         23              65397           12000   \n",
       "\n",
       "      relig_y_n  accred_y_n  retention_listed_y_n  fac_salary_listed_y_n  \\\n",
       "0             1           1                     1                      1   \n",
       "1             1           1                     1                      1   \n",
       "2             0           1                     1                      1   \n",
       "3             0           1                     0                      1   \n",
       "4             0           1                     1                      1   \n",
       "...         ...         ...                   ...                    ...   \n",
       "7537          0           1                     1                      1   \n",
       "7538          0           1                     1                      1   \n",
       "7539          0           1                     1                      0   \n",
       "7540          0           1                     1                      1   \n",
       "7541          0           1                     1                      1   \n",
       "\n",
       "      7_yr_repayment_completion_y_n  5_year_declining_balance_y_n  for_profit  \n",
       "0                                 0                             0           0  \n",
       "1                                 0                             0           0  \n",
       "2                                 0                             0           0  \n",
       "3                                 1                             1           1  \n",
       "4                                 1                             1           1  \n",
       "...                             ...                           ...         ...  \n",
       "7537                              1                             1           0  \n",
       "7538                              1                             1           0  \n",
       "7539                              1                             1           1  \n",
       "7540                              1                             1           1  \n",
       "7541                              1                             1           0  \n",
       "\n",
       "[6740 rows x 19 columns]"
      ]
     },
     "execution_count": 16,
     "metadata": {
     },
     "output_type": "execute_result"
    }
   ],
   "source": [
    "X.select_dtypes(exclude=[\"float_\"])"
   ]
  },
  {
   "cell_type": "code",
   "execution_count": 44,
   "metadata": {
    "collapsed": false
   },
   "outputs": [
    {
     "data": {
      "text/html": [
       "<div>\n",
       "<style scoped>\n",
       "    .dataframe tbody tr th:only-of-type {\n",
       "        vertical-align: middle;\n",
       "    }\n",
       "\n",
       "    .dataframe tbody tr th {\n",
       "        vertical-align: top;\n",
       "    }\n",
       "\n",
       "    .dataframe thead th {\n",
       "        text-align: right;\n",
       "    }\n",
       "</style>\n",
       "<table border=\"1\" class=\"dataframe\">\n",
       "  <thead>\n",
       "    <tr style=\"text-align: right;\">\n",
       "      <th></th>\n",
       "      <th>size</th>\n",
       "      <th>retention</th>\n",
       "      <th>branches</th>\n",
       "      <th>most_common_degree</th>\n",
       "      <th>highest_degree</th>\n",
       "      <th>faculty_salary</th>\n",
       "      <th>instructional_expenditure_per_fte</th>\n",
       "      <th>tuition_revenue_per_fte</th>\n",
       "      <th>part_time_share</th>\n",
       "      <th>age_entry</th>\n",
       "      <th>...</th>\n",
       "      <th>ind_low_income</th>\n",
       "      <th>dep_low_income</th>\n",
       "      <th>loan_principal</th>\n",
       "      <th>federal_loan_rate</th>\n",
       "      <th>students_with_any_loans</th>\n",
       "      <th>pell_grant_debt</th>\n",
       "      <th>percent_pell_grant</th>\n",
       "      <th>fafsa_sent</th>\n",
       "      <th>7_yr_repayment_completion</th>\n",
       "      <th>5_year_declining_balance_y_n</th>\n",
       "    </tr>\n",
       "  </thead>\n",
       "  <tbody>\n",
       "    <tr>\n",
       "      <td>0</td>\n",
       "      <td>27</td>\n",
       "      <td>0.333300</td>\n",
       "      <td>1</td>\n",
       "      <td>3</td>\n",
       "      <td>3</td>\n",
       "      <td>2201</td>\n",
       "      <td>9585</td>\n",
       "      <td>8132</td>\n",
       "      <td>0.1481</td>\n",
       "      <td>21</td>\n",
       "      <td>...</td>\n",
       "      <td>0.774400</td>\n",
       "      <td>0.476917</td>\n",
       "      <td>11443</td>\n",
       "      <td>0.2857</td>\n",
       "      <td>0.779431</td>\n",
       "      <td>12672.740204</td>\n",
       "      <td>0.723705</td>\n",
       "      <td>0.463652</td>\n",
       "      <td>0.699542</td>\n",
       "      <td>0</td>\n",
       "    </tr>\n",
       "    <tr>\n",
       "      <td>1</td>\n",
       "      <td>68</td>\n",
       "      <td>0.473700</td>\n",
       "      <td>1</td>\n",
       "      <td>1</td>\n",
       "      <td>2</td>\n",
       "      <td>5554</td>\n",
       "      <td>18174</td>\n",
       "      <td>12989</td>\n",
       "      <td>0.0735</td>\n",
       "      <td>23</td>\n",
       "      <td>...</td>\n",
       "      <td>0.774400</td>\n",
       "      <td>0.476917</td>\n",
       "      <td>5593</td>\n",
       "      <td>0.6792</td>\n",
       "      <td>0.747126</td>\n",
       "      <td>12672.740204</td>\n",
       "      <td>0.723705</td>\n",
       "      <td>0.463652</td>\n",
       "      <td>0.699542</td>\n",
       "      <td>0</td>\n",
       "    </tr>\n",
       "    <tr>\n",
       "      <td>2</td>\n",
       "      <td>109</td>\n",
       "      <td>0.809500</td>\n",
       "      <td>1</td>\n",
       "      <td>1</td>\n",
       "      <td>2</td>\n",
       "      <td>6054</td>\n",
       "      <td>38265</td>\n",
       "      <td>3587</td>\n",
       "      <td>0.6239</td>\n",
       "      <td>25</td>\n",
       "      <td>...</td>\n",
       "      <td>0.774400</td>\n",
       "      <td>0.476917</td>\n",
       "      <td>11443</td>\n",
       "      <td>0.0000</td>\n",
       "      <td>0.779431</td>\n",
       "      <td>12672.740204</td>\n",
       "      <td>0.723705</td>\n",
       "      <td>0.463652</td>\n",
       "      <td>0.699542</td>\n",
       "      <td>0</td>\n",
       "    </tr>\n",
       "    <tr>\n",
       "      <td>3</td>\n",
       "      <td>3256</td>\n",
       "      <td>0.703723</td>\n",
       "      <td>1</td>\n",
       "      <td>1</td>\n",
       "      <td>3</td>\n",
       "      <td>4004</td>\n",
       "      <td>2617</td>\n",
       "      <td>8755</td>\n",
       "      <td>0.0000</td>\n",
       "      <td>28</td>\n",
       "      <td>...</td>\n",
       "      <td>0.770715</td>\n",
       "      <td>0.485880</td>\n",
       "      <td>10047</td>\n",
       "      <td>0.7503</td>\n",
       "      <td>0.895096</td>\n",
       "      <td>10500.000000</td>\n",
       "      <td>0.849558</td>\n",
       "      <td>0.310288</td>\n",
       "      <td>0.725806</td>\n",
       "      <td>1</td>\n",
       "    </tr>\n",
       "    <tr>\n",
       "      <td>4</td>\n",
       "      <td>479</td>\n",
       "      <td>0.794100</td>\n",
       "      <td>1</td>\n",
       "      <td>1</td>\n",
       "      <td>2</td>\n",
       "      <td>3861</td>\n",
       "      <td>4178</td>\n",
       "      <td>11905</td>\n",
       "      <td>0.0000</td>\n",
       "      <td>27</td>\n",
       "      <td>...</td>\n",
       "      <td>0.787120</td>\n",
       "      <td>0.403846</td>\n",
       "      <td>7832</td>\n",
       "      <td>0.7860</td>\n",
       "      <td>0.814863</td>\n",
       "      <td>8400.500000</td>\n",
       "      <td>0.792699</td>\n",
       "      <td>0.254237</td>\n",
       "      <td>0.556430</td>\n",
       "      <td>1</td>\n",
       "    </tr>\n",
       "  </tbody>\n",
       "</table>\n",
       "<p>5 rows × 24 columns</p>\n",
       "</div>"
      ],
      "text/plain": [
       "   size  retention  branches  most_common_degree  highest_degree  \\\n",
       "0    27   0.333300         1                   3               3   \n",
       "1    68   0.473700         1                   1               2   \n",
       "2   109   0.809500         1                   1               2   \n",
       "3  3256   0.703723         1                   1               3   \n",
       "4   479   0.794100         1                   1               2   \n",
       "\n",
       "   faculty_salary  instructional_expenditure_per_fte  tuition_revenue_per_fte  \\\n",
       "0            2201                               9585                     8132   \n",
       "1            5554                              18174                    12989   \n",
       "2            6054                              38265                     3587   \n",
       "3            4004                               2617                     8755   \n",
       "4            3861                               4178                    11905   \n",
       "\n",
       "   part_time_share  age_entry  ...  ind_low_income  dep_low_income  \\\n",
       "0           0.1481         21  ...        0.774400        0.476917   \n",
       "1           0.0735         23  ...        0.774400        0.476917   \n",
       "2           0.6239         25  ...        0.774400        0.476917   \n",
       "3           0.0000         28  ...        0.770715        0.485880   \n",
       "4           0.0000         27  ...        0.787120        0.403846   \n",
       "\n",
       "   loan_principal  federal_loan_rate  students_with_any_loans  \\\n",
       "0           11443             0.2857                 0.779431   \n",
       "1            5593             0.6792                 0.747126   \n",
       "2           11443             0.0000                 0.779431   \n",
       "3           10047             0.7503                 0.895096   \n",
       "4            7832             0.7860                 0.814863   \n",
       "\n",
       "   pell_grant_debt  percent_pell_grant  fafsa_sent  7_yr_repayment_completion  \\\n",
       "0     12672.740204            0.723705    0.463652                   0.699542   \n",
       "1     12672.740204            0.723705    0.463652                   0.699542   \n",
       "2     12672.740204            0.723705    0.463652                   0.699542   \n",
       "3     10500.000000            0.849558    0.310288                   0.725806   \n",
       "4      8400.500000            0.792699    0.254237                   0.556430   \n",
       "\n",
       "   5_year_declining_balance_y_n  \n",
       "0                             0  \n",
       "1                             0  \n",
       "2                             0  \n",
       "3                             1  \n",
       "4                             1  \n",
       "\n",
       "[5 rows x 24 columns]"
      ]
     },
     "execution_count": 44,
     "metadata": {
     },
     "output_type": "execute_result"
    }
   ],
   "source": [
    "from sklearn.svm import SVC\n",
    "# one_hot_online = pd.get_dummies(df['online_only'])\n",
    "# one_hot_investigation = pd.get_dummies(df['under_investigation'])\n",
    "# one_hot_religion = pd.get_dummies(df['relig_y_n'])\n",
    "# one_hot_accredition = pd.get_dummies(df['accred_y_n'])\n",
    "# one_hot_retention = pd.get_dummies(df['retention_listed_y_n'])\n",
    "# one_hot_salary = pd.get_dummies(df['fac_salary_y_n'])\n",
    "# one_hot_repayment = pd.get_dummies(df['7_yr_repayment_completion_y_n'])\n",
    "# one_hot_declining = pd.get_dummies(df['5_year_declining_balance'])\n",
    "# one_hot = one_hot_gender.join(one_hot_athletic)\n",
    "\n",
    "y = X['for_profit']\n",
    "numerical = X.drop(columns = ['online_only', 'under_investigation', 'relig_y_n', 'accred_y_n', 'retention_listed_y_n', 'fac_salary_listed_y_n','7_yr_repayment_completion_y_n','5_year_declining_balance','for_profit'])\n",
    "numerical.head()\n",
    "# model = make_pipeline(PolynomialFeatures(5), StandardScaler())\n",
    "# model.fit(numerical)\n",
    "# X = one_hot.join(pd.DataFrame(model.transform(numerical)))\n",
    "\n",
    "# model = RidgeCV(cv=10, alphas=[0.0001, 0.1, 1])\n",
    "# model.fit(X, y)\n",
    "# print(model.score(X, y))\n",
    "\n",
    "# X =df[['instructional_expenditure_per_fte','5_year_declining_balance']]\n",
    "# X_scaler = StandardScaler()\n",
    "# X = X_scaler.fit_transform(X)\n",
    "# X = pd.DataFrame(X)\n",
    "# model = svm.SVC(probability=True)\n",
    "# #model = SVC(gamma='auto')\n",
    "# model.fit(X_train, y_train)\n",
    "# print(model.score(X_test, y_test))\n",
    "# y_proba_SVM = model.predict_proba(X_test)[:, 1]"
   ]
  },
  {
   "cell_type": "code",
   "execution_count": 86,
   "metadata": {
    "collapsed": false
   },
   "outputs": [
    {
     "name": "stderr",
     "output_type": "stream",
     "text": [
      "/usr/local/lib/python3.6/dist-packages/sklearn/svm/base.py:193: FutureWarning: The default value of gamma will change from 'auto' to 'scale' in version 0.22 to account better for unscaled features. Set gamma explicitly to 'auto' or 'scale' to avoid this warning.\n",
      "  \"avoid this warning.\", FutureWarning)\n"
     ]
    },
    {
     "name": "stdout",
     "output_type": "stream",
     "text": [
      "0.9355659177617635\n"
     ]
    }
   ],
   "source": [
    "X = df[['size','retention','branches', 'online_only', 'under_investigation', 'most_common_degree', 'highest_degree',\n",
    "       'faculty_salary', 'instructional_expenditure_per_fte',\n",
    "       'tuition_revenue_per_fte', 'part_time_share',\n",
    "       'age_entry', 'percent_dependent', 'first_generation', 'percent_black',\n",
    "        'avg_family_income','ind_low_income', 'dep_low_income', 'loan_principal',\n",
    "       'federal_loan_rate', 'students_with_any_loans',\n",
    "       'pell_grant_debt', 'percent_pell_grant',\n",
    "       'fafsa_sent', '7_yr_repayment_completion', '5_year_declining_balance',\n",
    "       'relig_y_n', 'accred_y_n', 'retention_listed_y_n',\n",
    "       'fac_salary_listed_y_n', '7_yr_repayment_completion_y_n',\n",
    "       '5_year_declining_balance_y_n', 'for_profit']]\n",
    "X = X.reset_index(drop = True)\n",
    "\n",
    "y = X.pop('for_profit')\n",
    "numerical = X.drop(columns = ['online_only', 'under_investigation', 'relig_y_n', 'accred_y_n', 'retention_listed_y_n', 'fac_salary_listed_y_n','7_yr_repayment_completion_y_n','5_year_declining_balance_y_n'])\n",
    "numerical_scaler = StandardScaler()\n",
    "numerical = numerical_scaler.fit_transform(numerical)\n",
    "numerical = pd.DataFrame(numerical)\n",
    "categorical = X[['online_only', 'under_investigation', 'relig_y_n', 'accred_y_n', 'retention_listed_y_n', 'fac_salary_listed_y_n','7_yr_repayment_completion_y_n','5_year_declining_balance_y_n']]\n",
    "\n",
    "X = numerical.join(categorical)\n",
    "\n",
    "\n",
    "X_train, X_test, y_train, y_test = train_test_split(X, y, shuffle=True, test_size=0.7)\n",
    "model = svm.SVC(probability=True)\n",
    "#model = SVC(gamma='auto')\n",
    "model.fit(X_train, y_train)\n",
    "print(model.score(X_test, y_test))\n",
    "y_proba_SVM = model.predict_proba(X_test)[:, 1]"
   ]
  },
  {
   "cell_type": "markdown",
   "metadata": {
    "collapsed": false
   },
   "source": [
    "10. Make a comparative ROC plot of the naive bayes, logistic, gradient boosting, KNN classifiers, random forest, and SVM classifiers."
   ]
  },
  {
   "cell_type": "code",
   "execution_count": 94,
   "metadata": {
    "collapsed": false
   },
   "outputs": [
    {
     "data": {
      "image/png": "[encoded data removed]",
      "text/plain": [
       "<Figure size 432x288 with 1 Axes>"
      ]
     },
     "execution_count": 94,
     "metadata": {
      "image/png": {
       "height": 277,
       "width": 385
      }
     },
     "output_type": "execute_result"
    }
   ],
   "source": [
    "plot_roc(y_test, y_proba_RF, \"Random Forest\")\n",
    "plot_roc(y_test, y_proba_NB, \"Naive Bayes\")\n",
    "plot_roc(y_test, y_proba_GB, \"Gradient Boosting\")\n",
    "plot_roc(y_test, y_proba_LR, \"Log Regression\")\n",
    "plot_roc(y_test, y_proba_KNN, \"KNeighbors\")\n",
    "plot_roc(y_test, y_proba_SVM, \"Support Vector Machines\")"
   ]
  },
  {
   "cell_type": "markdown",
   "metadata": {
    "collapsed": false
   },
   "source": [
    "11.Take in a new school's data and predict the school's profit status using one of your previous classifier methods."
   ]
  },
  {
   "cell_type": "code",
   "execution_count": 9,
   "metadata": {
    "collapsed": false
   },
   "outputs": [
    {
     "data": {
      "text/plain": [
       "size                                    51.000000\n",
       "retention                                0.600000\n",
       "branches                                 1.000000\n",
       "online_only                              0.000000\n",
       "under_investigation                      0.000000\n",
       "most_common_degree                       1.000000\n",
       "highest_degree                           1.000000\n",
       "faculty_salary                        6326.000000\n",
       "instructional_expenditure_per_fte     3538.000000\n",
       "tuition_revenue_per_fte               7437.000000\n",
       "part_time_share                          0.000000\n",
       "age_entry                               24.000000\n",
       "percent_dependent                        0.456790\n",
       "first_generation                         0.465120\n",
       "percent_black                            0.156900\n",
       "avg_family_income                    29230.000000\n",
       "ind_low_income                           0.774400\n",
       "dep_low_income                           0.476917\n",
       "loan_principal                        9833.000000\n",
       "federal_loan_rate                        0.753400\n",
       "students_with_any_loans                  0.779431\n",
       "pell_grant_debt                      12672.740204\n",
       "percent_pell_grant                       0.814815\n",
       "fafsa_sent                               0.481481\n",
       "7_yr_repayment_completion                0.699542\n",
       "5_year_declining_balance                 0.496850\n",
       "relig_y_n                                0.000000\n",
       "accred_y_n                               1.000000\n",
       "retention_listed_y_n                     1.000000\n",
       "fac_salary_listed_y_n                    0.000000\n",
       "7_yr_repayment_completion_y_n            0.000000\n",
       "5_year_declining_balance_y_n             0.000000\n",
       "Name: 13, dtype: float64"
      ]
     },
     "execution_count": 9,
     "metadata": {
     },
     "output_type": "execute_result"
    }
   ],
   "source": [
    "X.iloc[12]"
   ]
  },
  {
   "cell_type": "code",
   "execution_count": 10,
   "metadata": {
    "collapsed": false
   },
   "outputs": [
    {
     "name": "stdout",
     "output_type": "stream",
     "text": [
      "[1]\n"
     ]
    },
    {
     "name": "stderr",
     "output_type": "stream",
     "text": [
      "/usr/local/lib/python3.6/dist-packages/sklearn/ensemble/forest.py:245: FutureWarning: The default value of n_estimators will change from 10 in version 0.20 to 100 in 0.22.\n",
      "  \"10 in version 0.20 to 100 in 0.22.\", FutureWarning)\n"
     ]
    }
   ],
   "source": [
    "model = RandomForestClassifier()\n",
    "model.fit(X_train, y_train)\n",
    "print(model.predict([[51, 0.6, 1, 0, 0, 1, 1, 6326, 3538, 7437, 0, 24, 0.45679, 0.46512, 0.1569, 29230, 0.7744, 0.476917, 9833, 0.7534, 0.779431, 12672.740204, 0.814815, 0.481481, 0.699542, 0.49685, 0, 1, 1, 0, 0, 0]]))"
   ]
  },
  {
   "cell_type": "code",
   "execution_count": 12,
   "metadata": {
    "collapsed": false
   },
   "outputs": [
    {
     "data": {
      "text/plain": [
       "name                                         The Salon Professional Academy-Huntsville\n",
       "ownership                                                                            3\n",
       "ope6_id                                                                          42110\n",
       "state                                                                               AL\n",
       "size                                                                                51\n",
       "accreditor                           National Accrediting Commission of Cosmetology...\n",
       "retention                                                                          0.6\n",
       "branches                                                                             1\n",
       "online_only                                                                          0\n",
       "religious_affil                                                                     -2\n",
       "under_investigation                                                                  0\n",
       "most_common_degree                                                                   1\n",
       "highest_degree                                                                       1\n",
       "faculty_salary                                                                    6326\n",
       "instructional_expenditure_per_fte                                                 3538\n",
       "tuition_revenue_per_fte                                                           7437\n",
       "locale                                                                              12\n",
       "carnegie_basic                                                                      -2\n",
       "carnegie_undergrad                                                                  -2\n",
       "carnegie_size_setting                                                               -2\n",
       "part_time_share                                                                      0\n",
       "age_entry                                                                           24\n",
       "percent_dependent                                                              0.45679\n",
       "first_generation                                                               0.46512\n",
       "percent_black                                                                   0.1569\n",
       "avg_dependent_income                                                             48896\n",
       "avg_family_income                                                                29230\n",
       "median_family_income                                                             13951\n",
       "ind_low_income                                                                  0.7744\n",
       "dep_low_income                                                                0.476917\n",
       "loan_principal                                                                    9833\n",
       "federal_loan_rate                                                               0.7534\n",
       "students_with_any_loans                                                       0.779431\n",
       "median_debt_indep_students                                                       16500\n",
       "pell_grant_debt                                                                12672.7\n",
       "percent_pell_grant                                                            0.814815\n",
       "fafsa_sent                                                                    0.481481\n",
       "7_yr_repayment_completion                                                     0.699542\n",
       "5_year_declining_balance                                                       0.49685\n",
       "relig_y_n                                                                            0\n",
       "accred_y_n                                                                           1\n",
       "retention_listed_y_n                                                                 1\n",
       "fac_salary_listed_y_n                                                                0\n",
       "7_yr_repayment_completion_y_n                                                        0\n",
       "5_year_declining_balance_y_n                                                         0\n",
       "for_profit                                                                           1\n",
       "Name: 13, dtype: object"
      ]
     },
     "execution_count": 12,
     "metadata": {
     },
     "output_type": "execute_result"
    }
   ],
   "source": [
    "#Check against the correct answer\n",
    "df.iloc[12]"
   ]
  },
  {
   "cell_type": "markdown",
   "metadata": {
    "collapsed": false
   },
   "source": [
    "12.What are the worst schools? Some of them are chains of schools so don't necessarily consider singular names but generalize to chains. Give a lot of justification for your analysis as everyone might have a different answer here. Insert these responses into your blog."
   ]
  },
  {
   "cell_type": "code",
   "execution_count": 35,
   "metadata": {
    "collapsed": false
   },
   "outputs": [
    {
     "data": {
      "text/html": [
       "<div>\n",
       "<style scoped>\n",
       "    .dataframe tbody tr th:only-of-type {\n",
       "        vertical-align: middle;\n",
       "    }\n",
       "\n",
       "    .dataframe tbody tr th {\n",
       "        vertical-align: top;\n",
       "    }\n",
       "\n",
       "    .dataframe thead th {\n",
       "        text-align: right;\n",
       "    }\n",
       "</style>\n",
       "<table border=\"1\" class=\"dataframe\">\n",
       "  <thead>\n",
       "    <tr style=\"text-align: right;\">\n",
       "      <th></th>\n",
       "      <th>0</th>\n",
       "      <th>1</th>\n",
       "      <th>2</th>\n",
       "      <th>3</th>\n",
       "      <th>4</th>\n",
       "      <th>5</th>\n",
       "      <th>6</th>\n",
       "      <th>7</th>\n",
       "      <th>8</th>\n",
       "      <th>9</th>\n",
       "      <th>...</th>\n",
       "      <th>24</th>\n",
       "      <th>25</th>\n",
       "      <th>26</th>\n",
       "      <th>27</th>\n",
       "      <th>28</th>\n",
       "      <th>29</th>\n",
       "      <th>30</th>\n",
       "      <th>31</th>\n",
       "      <th>32</th>\n",
       "      <th>33</th>\n",
       "    </tr>\n",
       "  </thead>\n",
       "  <tbody>\n",
       "    <tr>\n",
       "      <td>0</td>\n",
       "      <td>-0.467851</td>\n",
       "      <td>-2.381226e+00</td>\n",
       "      <td>-0.302187</td>\n",
       "      <td>-0.075299</td>\n",
       "      <td>-0.101702</td>\n",
       "      <td>1.103434</td>\n",
       "      <td>0.562069</td>\n",
       "      <td>-2.285946</td>\n",
       "      <td>0.211986</td>\n",
       "      <td>-0.226511</td>\n",
       "      <td>...</td>\n",
       "      <td>3.900613e-15</td>\n",
       "      <td>5.033922e-15</td>\n",
       "      <td>2.572123</td>\n",
       "      <td>0.115018</td>\n",
       "      <td>0.486049</td>\n",
       "      <td>0.789502</td>\n",
       "      <td>-1.232731</td>\n",
       "      <td>-1.862658</td>\n",
       "      <td>-0.870343</td>\n",
       "      <td>-1.150444</td>\n",
       "    </tr>\n",
       "    <tr>\n",
       "      <td>1</td>\n",
       "      <td>-0.460360</td>\n",
       "      <td>-1.478679e+00</td>\n",
       "      <td>-0.302187</td>\n",
       "      <td>-0.075299</td>\n",
       "      <td>-0.101702</td>\n",
       "      <td>-0.830804</td>\n",
       "      <td>-0.197423</td>\n",
       "      <td>-0.427946</td>\n",
       "      <td>1.104804</td>\n",
       "      <td>0.338821</td>\n",
       "      <td>...</td>\n",
       "      <td>3.900613e-15</td>\n",
       "      <td>5.033922e-15</td>\n",
       "      <td>2.572123</td>\n",
       "      <td>0.115018</td>\n",
       "      <td>0.486049</td>\n",
       "      <td>0.789502</td>\n",
       "      <td>-1.232731</td>\n",
       "      <td>-1.862658</td>\n",
       "      <td>-0.870343</td>\n",
       "      <td>0.424614</td>\n",
       "    </tr>\n",
       "    <tr>\n",
       "      <td>2</td>\n",
       "      <td>-0.452870</td>\n",
       "      <td>6.799767e-01</td>\n",
       "      <td>-0.302187</td>\n",
       "      <td>-0.075299</td>\n",
       "      <td>-0.101702</td>\n",
       "      <td>-0.830804</td>\n",
       "      <td>-0.197423</td>\n",
       "      <td>-0.150880</td>\n",
       "      <td>3.193243</td>\n",
       "      <td>-0.755528</td>\n",
       "      <td>...</td>\n",
       "      <td>3.900613e-15</td>\n",
       "      <td>5.033922e-15</td>\n",
       "      <td>-0.388784</td>\n",
       "      <td>0.115018</td>\n",
       "      <td>0.486049</td>\n",
       "      <td>0.789502</td>\n",
       "      <td>-1.232731</td>\n",
       "      <td>-1.862658</td>\n",
       "      <td>-0.870343</td>\n",
       "      <td>-1.948859</td>\n",
       "    </tr>\n",
       "    <tr>\n",
       "      <td>3</td>\n",
       "      <td>0.122063</td>\n",
       "      <td>8.363001e-15</td>\n",
       "      <td>-0.302187</td>\n",
       "      <td>-0.075299</td>\n",
       "      <td>-0.101702</td>\n",
       "      <td>-0.830804</td>\n",
       "      <td>0.562069</td>\n",
       "      <td>-1.286848</td>\n",
       "      <td>-0.512331</td>\n",
       "      <td>-0.153997</td>\n",
       "      <td>...</td>\n",
       "      <td>1.945300e-01</td>\n",
       "      <td>-4.539314e-01</td>\n",
       "      <td>-0.388784</td>\n",
       "      <td>0.115018</td>\n",
       "      <td>-2.057406</td>\n",
       "      <td>0.789502</td>\n",
       "      <td>0.811207</td>\n",
       "      <td>0.536867</td>\n",
       "      <td>1.148972</td>\n",
       "      <td>0.296913</td>\n",
       "    </tr>\n",
       "    <tr>\n",
       "      <td>4</td>\n",
       "      <td>-0.385274</td>\n",
       "      <td>5.809794e-01</td>\n",
       "      <td>-0.302187</td>\n",
       "      <td>-0.075299</td>\n",
       "      <td>-0.101702</td>\n",
       "      <td>-0.830804</td>\n",
       "      <td>-0.197423</td>\n",
       "      <td>-1.366089</td>\n",
       "      <td>-0.350067</td>\n",
       "      <td>0.212648</td>\n",
       "      <td>...</td>\n",
       "      <td>-1.059960e+00</td>\n",
       "      <td>-1.975064e-01</td>\n",
       "      <td>-0.388784</td>\n",
       "      <td>0.115018</td>\n",
       "      <td>0.486049</td>\n",
       "      <td>0.789502</td>\n",
       "      <td>0.811207</td>\n",
       "      <td>0.536867</td>\n",
       "      <td>1.148972</td>\n",
       "      <td>0.254391</td>\n",
       "    </tr>\n",
       "  </tbody>\n",
       "</table>\n",
       "<p>5 rows × 34 columns</p>\n",
       "</div>"
      ],
      "text/plain": [
       "         0             1         2         3         4         5         6   \\\n",
       "0 -0.467851 -2.381226e+00 -0.302187 -0.075299 -0.101702  1.103434  0.562069   \n",
       "1 -0.460360 -1.478679e+00 -0.302187 -0.075299 -0.101702 -0.830804 -0.197423   \n",
       "2 -0.452870  6.799767e-01 -0.302187 -0.075299 -0.101702 -0.830804 -0.197423   \n",
       "3  0.122063  8.363001e-15 -0.302187 -0.075299 -0.101702 -0.830804  0.562069   \n",
       "4 -0.385274  5.809794e-01 -0.302187 -0.075299 -0.101702 -0.830804 -0.197423   \n",
       "\n",
       "         7         8         9   ...            24            25        26  \\\n",
       "0 -2.285946  0.211986 -0.226511  ...  3.900613e-15  5.033922e-15  2.572123   \n",
       "1 -0.427946  1.104804  0.338821  ...  3.900613e-15  5.033922e-15  2.572123   \n",
       "2 -0.150880  3.193243 -0.755528  ...  3.900613e-15  5.033922e-15 -0.388784   \n",
       "3 -1.286848 -0.512331 -0.153997  ...  1.945300e-01 -4.539314e-01 -0.388784   \n",
       "4 -1.366089 -0.350067  0.212648  ... -1.059960e+00 -1.975064e-01 -0.388784   \n",
       "\n",
       "         27        28        29        30        31        32        33  \n",
       "0  0.115018  0.486049  0.789502 -1.232731 -1.862658 -0.870343 -1.150444  \n",
       "1  0.115018  0.486049  0.789502 -1.232731 -1.862658 -0.870343  0.424614  \n",
       "2  0.115018  0.486049  0.789502 -1.232731 -1.862658 -0.870343 -1.948859  \n",
       "3  0.115018 -2.057406  0.789502  0.811207  0.536867  1.148972  0.296913  \n",
       "4  0.115018  0.486049  0.789502  0.811207  0.536867  1.148972  0.254391  \n",
       "\n",
       "[5 rows x 34 columns]"
      ]
     },
     "execution_count": 35,
     "metadata": {
     },
     "output_type": "execute_result"
    }
   ],
   "source": [
    "X_scaler = StandardScaler()\n",
    "X = X_scaler.fit_transform(X)\n",
    "X = pd.DataFrame(X)\n",
    "X.head()"
   ]
  },
  {
   "cell_type": "code",
   "execution_count": 42,
   "metadata": {
    "collapsed": false,
    "scrolled": true
   },
   "outputs": [
    {
     "data": {
      "text/html": [
       "<div>\n",
       "<style scoped>\n",
       "    .dataframe tbody tr th:only-of-type {\n",
       "        vertical-align: middle;\n",
       "    }\n",
       "\n",
       "    .dataframe tbody tr th {\n",
       "        vertical-align: top;\n",
       "    }\n",
       "\n",
       "    .dataframe thead th {\n",
       "        text-align: right;\n",
       "    }\n",
       "</style>\n",
       "<table border=\"1\" class=\"dataframe\">\n",
       "  <thead>\n",
       "    <tr style=\"text-align: right;\">\n",
       "      <th></th>\n",
       "      <th>0</th>\n",
       "      <th>1</th>\n",
       "      <th>2</th>\n",
       "      <th>3</th>\n",
       "      <th>4</th>\n",
       "      <th>5</th>\n",
       "      <th>6</th>\n",
       "      <th>7</th>\n",
       "      <th>8</th>\n",
       "      <th>9</th>\n",
       "      <th>...</th>\n",
       "      <th>25</th>\n",
       "      <th>26</th>\n",
       "      <th>27</th>\n",
       "      <th>28</th>\n",
       "      <th>29</th>\n",
       "      <th>30</th>\n",
       "      <th>31</th>\n",
       "      <th>32</th>\n",
       "      <th>33</th>\n",
       "      <th>Worst_Schools</th>\n",
       "    </tr>\n",
       "  </thead>\n",
       "  <tbody>\n",
       "    <tr>\n",
       "      <td>0</td>\n",
       "      <td>-0.467851</td>\n",
       "      <td>-2.381226e+00</td>\n",
       "      <td>-0.302187</td>\n",
       "      <td>-0.075299</td>\n",
       "      <td>-0.101702</td>\n",
       "      <td>1.103434</td>\n",
       "      <td>0.562069</td>\n",
       "      <td>-2.285946</td>\n",
       "      <td>0.211986</td>\n",
       "      <td>-0.226511</td>\n",
       "      <td>...</td>\n",
       "      <td>5.033922e-15</td>\n",
       "      <td>2.572123</td>\n",
       "      <td>0.115018</td>\n",
       "      <td>0.486049</td>\n",
       "      <td>0.789502</td>\n",
       "      <td>-1.232731</td>\n",
       "      <td>-1.862658</td>\n",
       "      <td>-0.870343</td>\n",
       "      <td>-1.150444</td>\n",
       "      <td>-2.049424</td>\n",
       "    </tr>\n",
       "    <tr>\n",
       "      <td>1</td>\n",
       "      <td>-0.460360</td>\n",
       "      <td>-1.478679e+00</td>\n",
       "      <td>-0.302187</td>\n",
       "      <td>-0.075299</td>\n",
       "      <td>-0.101702</td>\n",
       "      <td>-0.830804</td>\n",
       "      <td>-0.197423</td>\n",
       "      <td>-0.427946</td>\n",
       "      <td>1.104804</td>\n",
       "      <td>0.338821</td>\n",
       "      <td>...</td>\n",
       "      <td>5.033922e-15</td>\n",
       "      <td>2.572123</td>\n",
       "      <td>0.115018</td>\n",
       "      <td>0.486049</td>\n",
       "      <td>0.789502</td>\n",
       "      <td>-1.232731</td>\n",
       "      <td>-1.862658</td>\n",
       "      <td>-0.870343</td>\n",
       "      <td>0.424614</td>\n",
       "      <td>-3.077838</td>\n",
       "    </tr>\n",
       "    <tr>\n",
       "      <td>2</td>\n",
       "      <td>-0.452870</td>\n",
       "      <td>6.799767e-01</td>\n",
       "      <td>-0.302187</td>\n",
       "      <td>-0.075299</td>\n",
       "      <td>-0.101702</td>\n",
       "      <td>-0.830804</td>\n",
       "      <td>-0.197423</td>\n",
       "      <td>-0.150880</td>\n",
       "      <td>3.193243</td>\n",
       "      <td>-0.755528</td>\n",
       "      <td>...</td>\n",
       "      <td>5.033922e-15</td>\n",
       "      <td>-0.388784</td>\n",
       "      <td>0.115018</td>\n",
       "      <td>0.486049</td>\n",
       "      <td>0.789502</td>\n",
       "      <td>-1.232731</td>\n",
       "      <td>-1.862658</td>\n",
       "      <td>-0.870343</td>\n",
       "      <td>-1.948859</td>\n",
       "      <td>1.947547</td>\n",
       "    </tr>\n",
       "    <tr>\n",
       "      <td>3</td>\n",
       "      <td>0.122063</td>\n",
       "      <td>8.363001e-15</td>\n",
       "      <td>-0.302187</td>\n",
       "      <td>-0.075299</td>\n",
       "      <td>-0.101702</td>\n",
       "      <td>-0.830804</td>\n",
       "      <td>0.562069</td>\n",
       "      <td>-1.286848</td>\n",
       "      <td>-0.512331</td>\n",
       "      <td>-0.153997</td>\n",
       "      <td>...</td>\n",
       "      <td>-4.539314e-01</td>\n",
       "      <td>-0.388784</td>\n",
       "      <td>0.115018</td>\n",
       "      <td>-2.057406</td>\n",
       "      <td>0.789502</td>\n",
       "      <td>0.811207</td>\n",
       "      <td>0.536867</td>\n",
       "      <td>1.148972</td>\n",
       "      <td>0.296913</td>\n",
       "      <td>-2.190313</td>\n",
       "    </tr>\n",
       "    <tr>\n",
       "      <td>4</td>\n",
       "      <td>-0.385274</td>\n",
       "      <td>5.809794e-01</td>\n",
       "      <td>-0.302187</td>\n",
       "      <td>-0.075299</td>\n",
       "      <td>-0.101702</td>\n",
       "      <td>-0.830804</td>\n",
       "      <td>-0.197423</td>\n",
       "      <td>-1.366089</td>\n",
       "      <td>-0.350067</td>\n",
       "      <td>0.212648</td>\n",
       "      <td>...</td>\n",
       "      <td>-1.975064e-01</td>\n",
       "      <td>-0.388784</td>\n",
       "      <td>0.115018</td>\n",
       "      <td>0.486049</td>\n",
       "      <td>0.789502</td>\n",
       "      <td>0.811207</td>\n",
       "      <td>0.536867</td>\n",
       "      <td>1.148972</td>\n",
       "      <td>0.254391</td>\n",
       "      <td>-2.980308</td>\n",
       "    </tr>\n",
       "  </tbody>\n",
       "</table>\n",
       "<p>5 rows × 35 columns</p>\n",
       "</div>"
      ],
      "text/plain": [
       "          0             1         2         3         4         5         6  \\\n",
       "0 -0.467851 -2.381226e+00 -0.302187 -0.075299 -0.101702  1.103434  0.562069   \n",
       "1 -0.460360 -1.478679e+00 -0.302187 -0.075299 -0.101702 -0.830804 -0.197423   \n",
       "2 -0.452870  6.799767e-01 -0.302187 -0.075299 -0.101702 -0.830804 -0.197423   \n",
       "3  0.122063  8.363001e-15 -0.302187 -0.075299 -0.101702 -0.830804  0.562069   \n",
       "4 -0.385274  5.809794e-01 -0.302187 -0.075299 -0.101702 -0.830804 -0.197423   \n",
       "\n",
       "          7         8         9  ...            25        26        27  \\\n",
       "0 -2.285946  0.211986 -0.226511  ...  5.033922e-15  2.572123  0.115018   \n",
       "1 -0.427946  1.104804  0.338821  ...  5.033922e-15  2.572123  0.115018   \n",
       "2 -0.150880  3.193243 -0.755528  ...  5.033922e-15 -0.388784  0.115018   \n",
       "3 -1.286848 -0.512331 -0.153997  ... -4.539314e-01 -0.388784  0.115018   \n",
       "4 -1.366089 -0.350067  0.212648  ... -1.975064e-01 -0.388784  0.115018   \n",
       "\n",
       "         28        29        30        31        32        33  Worst_Schools  \n",
       "0  0.486049  0.789502 -1.232731 -1.862658 -0.870343 -1.150444      -2.049424  \n",
       "1  0.486049  0.789502 -1.232731 -1.862658 -0.870343  0.424614      -3.077838  \n",
       "2  0.486049  0.789502 -1.232731 -1.862658 -0.870343 -1.948859       1.947547  \n",
       "3 -2.057406  0.789502  0.811207  0.536867  1.148972  0.296913      -2.190313  \n",
       "4  0.486049  0.789502  0.811207  0.536867  1.148972  0.254391      -2.980308  \n",
       "\n",
       "[5 rows x 35 columns]"
      ]
     },
     "execution_count": 42,
     "metadata": {
     },
     "output_type": "execute_result"
    }
   ],
   "source": [
    "X['Worst_Schools'] = X[15] + X[2] + X[7] + X[8] + X[18] + (-1)*X[21] + X[0] + (-1)*X[9]\n",
    "X.head()"
   ]
  },
  {
   "cell_type": "code",
   "execution_count": 43,
   "metadata": {
    "collapsed": false
   },
   "outputs": [
    {
     "name": "stdout",
     "output_type": "stream",
     "text": [
      "<class 'pandas.core.frame.DataFrame'>\n",
      "RangeIndex: 6740 entries, 0 to 6739\n",
      "Data columns (total 35 columns):\n",
      "0                6740 non-null float64\n",
      "1                6740 non-null float64\n",
      "2                6740 non-null float64\n",
      "3                6740 non-null float64\n",
      "4                6740 non-null float64\n",
      "5                6740 non-null float64\n",
      "6                6740 non-null float64\n",
      "7                6740 non-null float64\n",
      "8                6740 non-null float64\n",
      "9                6740 non-null float64\n",
      "10               6740 non-null float64\n",
      "11               6740 non-null float64\n",
      "12               6740 non-null float64\n",
      "13               6740 non-null float64\n",
      "14               6740 non-null float64\n",
      "15               6740 non-null float64\n",
      "16               6740 non-null float64\n",
      "17               6740 non-null float64\n",
      "18               6740 non-null float64\n",
      "19               6740 non-null float64\n",
      "20               6740 non-null float64\n",
      "21               6740 non-null float64\n",
      "22               6740 non-null float64\n",
      "23               6740 non-null float64\n",
      "24               6740 non-null float64\n",
      "25               6740 non-null float64\n",
      "26               6740 non-null float64\n",
      "27               6740 non-null float64\n",
      "28               6740 non-null float64\n",
      "29               6740 non-null float64\n",
      "30               6740 non-null float64\n",
      "31               6740 non-null float64\n",
      "32               6740 non-null float64\n",
      "33               33 non-null float64\n",
      "Worst_Schools    6740 non-null float64\n",
      "dtypes: float64(35)\n",
      "memory usage: 1.8 MB\n"
     ]
    }
   ],
   "source": [
    "X.info()"
   ]
  },
  {
   "cell_type": "code",
   "execution_count": 44,
   "metadata": {
    "collapsed": false
   },
   "outputs": [
    {
     "data": {
      "text/plain": [
       "-20.227167    1\n",
       "-13.714187    1\n",
       "-8.761973     1\n",
       "-8.642514     1\n",
       "-8.246723     1\n",
       "             ..\n",
       " 18.687676    1\n",
       " 18.818626    1\n",
       " 20.356887    1\n",
       " 28.023620    1\n",
       " 36.499084    1\n",
       "Name: Worst_Schools, Length: 6525, dtype: int64"
      ]
     },
     "execution_count": 44,
     "metadata": {
     },
     "output_type": "execute_result"
    }
   ],
   "source": [
    "X.Worst_Schools.value_counts().sort_index()"
   ]
  },
  {
   "cell_type": "code",
   "execution_count": 45,
   "metadata": {
    "collapsed": false
   },
   "outputs": [
    {
     "data": {
      "text/html": [
       "<div>\n",
       "<style scoped>\n",
       "    .dataframe tbody tr th:only-of-type {\n",
       "        vertical-align: middle;\n",
       "    }\n",
       "\n",
       "    .dataframe tbody tr th {\n",
       "        vertical-align: top;\n",
       "    }\n",
       "\n",
       "    .dataframe thead th {\n",
       "        text-align: right;\n",
       "    }\n",
       "</style>\n",
       "<table border=\"1\" class=\"dataframe\">\n",
       "  <thead>\n",
       "    <tr style=\"text-align: right;\">\n",
       "      <th></th>\n",
       "      <th>0</th>\n",
       "      <th>1</th>\n",
       "      <th>2</th>\n",
       "      <th>3</th>\n",
       "      <th>4</th>\n",
       "      <th>5</th>\n",
       "      <th>6</th>\n",
       "      <th>7</th>\n",
       "      <th>8</th>\n",
       "      <th>9</th>\n",
       "      <th>...</th>\n",
       "      <th>25</th>\n",
       "      <th>26</th>\n",
       "      <th>27</th>\n",
       "      <th>28</th>\n",
       "      <th>29</th>\n",
       "      <th>30</th>\n",
       "      <th>31</th>\n",
       "      <th>32</th>\n",
       "      <th>33</th>\n",
       "      <th>Worst_Schools</th>\n",
       "    </tr>\n",
       "  </thead>\n",
       "  <tbody>\n",
       "    <tr>\n",
       "      <td>1232</td>\n",
       "      <td>-0.421447</td>\n",
       "      <td>1.306746e+00</td>\n",
       "      <td>-0.302187</td>\n",
       "      <td>-0.075299</td>\n",
       "      <td>-0.101702</td>\n",
       "      <td>0.136315</td>\n",
       "      <td>-0.197423</td>\n",
       "      <td>-2.175674</td>\n",
       "      <td>1.227568</td>\n",
       "      <td>17.913116</td>\n",
       "      <td>...</td>\n",
       "      <td>5.033922e-15</td>\n",
       "      <td>-0.388784</td>\n",
       "      <td>0.115018</td>\n",
       "      <td>0.486049</td>\n",
       "      <td>0.789502</td>\n",
       "      <td>-1.232731</td>\n",
       "      <td>-1.862658</td>\n",
       "      <td>1.148972</td>\n",
       "      <td>NaN</td>\n",
       "      <td>-20.227167</td>\n",
       "    </tr>\n",
       "    <tr>\n",
       "      <td>1358</td>\n",
       "      <td>-0.440630</td>\n",
       "      <td>6.189070e-01</td>\n",
       "      <td>-0.302187</td>\n",
       "      <td>-0.075299</td>\n",
       "      <td>-0.101702</td>\n",
       "      <td>-0.830804</td>\n",
       "      <td>-0.197423</td>\n",
       "      <td>-2.423925</td>\n",
       "      <td>2.259781</td>\n",
       "      <td>6.014605</td>\n",
       "      <td>...</td>\n",
       "      <td>5.033922e-15</td>\n",
       "      <td>-0.388784</td>\n",
       "      <td>0.115018</td>\n",
       "      <td>0.486049</td>\n",
       "      <td>0.789502</td>\n",
       "      <td>-1.232731</td>\n",
       "      <td>-1.862658</td>\n",
       "      <td>1.148972</td>\n",
       "      <td>NaN</td>\n",
       "      <td>-8.761973</td>\n",
       "    </tr>\n",
       "    <tr>\n",
       "      <td>1768</td>\n",
       "      <td>-0.471322</td>\n",
       "      <td>8.363001e-15</td>\n",
       "      <td>-0.302187</td>\n",
       "      <td>-0.075299</td>\n",
       "      <td>-0.101702</td>\n",
       "      <td>-0.830804</td>\n",
       "      <td>-0.956915</td>\n",
       "      <td>-0.000157</td>\n",
       "      <td>19.940155</td>\n",
       "      <td>27.808929</td>\n",
       "      <td>...</td>\n",
       "      <td>5.033922e-15</td>\n",
       "      <td>-0.388784</td>\n",
       "      <td>-8.694303</td>\n",
       "      <td>-2.057406</td>\n",
       "      <td>-1.266621</td>\n",
       "      <td>-1.232731</td>\n",
       "      <td>-1.862658</td>\n",
       "      <td>1.148972</td>\n",
       "      <td>NaN</td>\n",
       "      <td>-8.642514</td>\n",
       "    </tr>\n",
       "    <tr>\n",
       "      <td>6146</td>\n",
       "      <td>-0.465476</td>\n",
       "      <td>-2.379985e-01</td>\n",
       "      <td>-0.103451</td>\n",
       "      <td>-0.075299</td>\n",
       "      <td>-0.101702</td>\n",
       "      <td>-0.830804</td>\n",
       "      <td>-0.197423</td>\n",
       "      <td>-1.714637</td>\n",
       "      <td>1.313949</td>\n",
       "      <td>10.195059</td>\n",
       "      <td>...</td>\n",
       "      <td>5.033922e-15</td>\n",
       "      <td>-0.388784</td>\n",
       "      <td>0.115018</td>\n",
       "      <td>0.486049</td>\n",
       "      <td>0.789502</td>\n",
       "      <td>-1.232731</td>\n",
       "      <td>-1.862658</td>\n",
       "      <td>1.148972</td>\n",
       "      <td>NaN</td>\n",
       "      <td>-13.714187</td>\n",
       "    </tr>\n",
       "    <tr>\n",
       "      <td>6261</td>\n",
       "      <td>-0.465659</td>\n",
       "      <td>8.363001e-15</td>\n",
       "      <td>-0.302187</td>\n",
       "      <td>-0.075299</td>\n",
       "      <td>-0.101702</td>\n",
       "      <td>2.070553</td>\n",
       "      <td>1.321562</td>\n",
       "      <td>-1.196525</td>\n",
       "      <td>0.960211</td>\n",
       "      <td>7.015838</td>\n",
       "      <td>...</td>\n",
       "      <td>5.033922e-15</td>\n",
       "      <td>-0.388784</td>\n",
       "      <td>0.115018</td>\n",
       "      <td>-2.057406</td>\n",
       "      <td>0.789502</td>\n",
       "      <td>-1.232731</td>\n",
       "      <td>-1.862658</td>\n",
       "      <td>1.148972</td>\n",
       "      <td>NaN</td>\n",
       "      <td>-8.020073</td>\n",
       "    </tr>\n",
       "    <tr>\n",
       "      <td>6315</td>\n",
       "      <td>-0.443370</td>\n",
       "      <td>1.274604e+00</td>\n",
       "      <td>-0.302187</td>\n",
       "      <td>-0.075299</td>\n",
       "      <td>-0.101702</td>\n",
       "      <td>-0.830804</td>\n",
       "      <td>-0.956915</td>\n",
       "      <td>-0.000157</td>\n",
       "      <td>2.092215</td>\n",
       "      <td>8.404783</td>\n",
       "      <td>...</td>\n",
       "      <td>5.033922e-15</td>\n",
       "      <td>-0.388784</td>\n",
       "      <td>0.115018</td>\n",
       "      <td>0.486049</td>\n",
       "      <td>-1.266621</td>\n",
       "      <td>-1.232731</td>\n",
       "      <td>-1.862658</td>\n",
       "      <td>-0.870343</td>\n",
       "      <td>NaN</td>\n",
       "      <td>-8.246723</td>\n",
       "    </tr>\n",
       "  </tbody>\n",
       "</table>\n",
       "<p>6 rows × 35 columns</p>\n",
       "</div>"
      ],
      "text/plain": [
       "             0             1         2         3         4         5  \\\n",
       "1232 -0.421447  1.306746e+00 -0.302187 -0.075299 -0.101702  0.136315   \n",
       "1358 -0.440630  6.189070e-01 -0.302187 -0.075299 -0.101702 -0.830804   \n",
       "1768 -0.471322  8.363001e-15 -0.302187 -0.075299 -0.101702 -0.830804   \n",
       "6146 -0.465476 -2.379985e-01 -0.103451 -0.075299 -0.101702 -0.830804   \n",
       "6261 -0.465659  8.363001e-15 -0.302187 -0.075299 -0.101702  2.070553   \n",
       "6315 -0.443370  1.274604e+00 -0.302187 -0.075299 -0.101702 -0.830804   \n",
       "\n",
       "             6         7          8          9  ...            25        26  \\\n",
       "1232 -0.197423 -2.175674   1.227568  17.913116  ...  5.033922e-15 -0.388784   \n",
       "1358 -0.197423 -2.423925   2.259781   6.014605  ...  5.033922e-15 -0.388784   \n",
       "1768 -0.956915 -0.000157  19.940155  27.808929  ...  5.033922e-15 -0.388784   \n",
       "6146 -0.197423 -1.714637   1.313949  10.195059  ...  5.033922e-15 -0.388784   \n",
       "6261  1.321562 -1.196525   0.960211   7.015838  ...  5.033922e-15 -0.388784   \n",
       "6315 -0.956915 -0.000157   2.092215   8.404783  ...  5.033922e-15 -0.388784   \n",
       "\n",
       "            27        28        29        30        31        32  33  \\\n",
       "1232  0.115018  0.486049  0.789502 -1.232731 -1.862658  1.148972 NaN   \n",
       "1358  0.115018  0.486049  0.789502 -1.232731 -1.862658  1.148972 NaN   \n",
       "1768 -8.694303 -2.057406 -1.266621 -1.232731 -1.862658  1.148972 NaN   \n",
       "6146  0.115018  0.486049  0.789502 -1.232731 -1.862658  1.148972 NaN   \n",
       "6261  0.115018 -2.057406  0.789502 -1.232731 -1.862658  1.148972 NaN   \n",
       "6315  0.115018  0.486049 -1.266621 -1.232731 -1.862658 -0.870343 NaN   \n",
       "\n",
       "      Worst_Schools  \n",
       "1232     -20.227167  \n",
       "1358      -8.761973  \n",
       "1768      -8.642514  \n",
       "6146     -13.714187  \n",
       "6261      -8.020073  \n",
       "6315      -8.246723  \n",
       "\n",
       "[6 rows x 35 columns]"
      ]
     },
     "execution_count": 45,
     "metadata": {
     },
     "output_type": "execute_result"
    }
   ],
   "source": [
    "X[(X.Worst_Schools <= -8)]"
   ]
  },
  {
   "cell_type": "code",
   "execution_count": 46,
   "metadata": {
    "collapsed": false,
    "scrolled": true
   },
   "outputs": [
    {
     "name": "stderr",
     "output_type": "stream",
     "text": [
      "WARNING: Some output was deleted.\n"
     ]
    }
   ],
   "source": [
    "print(df.iloc[1232])\n",
    "print(df.iloc[1358])\n",
    "print(df.iloc[1768])\n",
    "print(df.iloc[6146])\n",
    "print(df.iloc[6261])\n",
    "print(df.iloc[6315])"
   ]
  },
  {
   "cell_type": "code",
   "execution_count": 0,
   "metadata": {
    "collapsed": false
   },
   "outputs": [
   ],
   "source": [
    "#The data is first scaled to eliminate the effects of the extreme data, so that each selected feature can be evaluated equally. Based on the information above, average family income, branches, faculty salary, instructional expenditure per fte, loan principal, pell grant debt, size, and tuition revenue per fte are the most important features in considering profit status, so these factors are chosen for evaluating worst schools. Because tuition revenue per fte and pell grant debt have negative correlations with profit status, a \"-1\" is multiplied to their values. The total of the precedent important features are calculated and put to a new column of the dataframe. The top six colleges with the lowest sum of important features are considered to be the worst schools."
   ]
  },
  {
   "cell_type": "markdown",
   "metadata": {
    "collapsed": false
   },
   "source": [
    "13.If you were a governmental organization overseeing accreditation, what factors would be most important to you in making sure that the college was non-predatory? Give a lot of detail here as well in your blog."
   ]
  },
  {
   "cell_type": "code",
   "execution_count": 0,
   "metadata": {
    "collapsed": false
   },
   "outputs": [
   ],
   "source": [
    "#Based on the information above, average family income, branches, faculty salary, instructional expenditure per fte, loan principal, pell grant debt, size, and tuition revenue per fte are the most important features in considering accredition, because they have the most statistically significant relationships\n",
    "#According to the US Department of Education, the basic eligibility requirements for recognition of accredition concern mostly with federal programs, accrediting experience and acceptance by others. Specifically in the application process, applicants have to illustrate factors like their purpose, administrative responsibilities, and most importantly, the connection of student achievements to the mission of the institute. \n",
    "#In conclusion, the profit status, student achievement and the mission of the college. A college can obtain accredition recognition in different agencies."
   ]
  },
  {
   "cell_type": "markdown",
   "metadata": {
    "collapsed": false
   },
   "source": [
    "14.Read several articles on college predatory practices and cite and incorporate them into your blog discussion. Remember to link to them clearly by using the \n",
    "```[here](http://....)``` syntax."
   ]
  },
  {
   "cell_type": "code",
   "execution_count": 4,
   "metadata": {
    "collapsed": false
   },
   "outputs": [
    {
     "data": {
      "text/plain": [
       "True"
      ]
     },
     "execution_count": 4,
     "metadata": {
     },
     "output_type": "execute_result"
    }
   ],
   "source": [
    "import webbrowser\n",
    "webbrowser.open(\"https://www2.ed.gov/admins/finaid/accred/accreditation-handbook.pdf\")\n",
    "webbrowser.open(\"https://www.petersons.com/blog/understanding-accreditation-of-us-colleges-and-universities/\")"
   ]
  }
 ],
 "metadata": {
  "kernelspec": {
   "display_name": "Python 3 (system-wide)",
   "language": "python",
   "metadata": {
    "cocalc": {
     "description": "Python 3 programming language",
     "priority": 100,
     "url": "https://www.python.org/"
    }
   },
   "name": "python3"
  },
  "language_info": {
   "codemirror_mode": {
    "name": "ipython",
    "version": 3
   },
   "file_extension": ".py",
   "mimetype": "text/x-python",
   "name": "python",
   "nbconvert_exporter": "python",
   "pygments_lexer": "ipython3",
   "version": "3.6.8"
  }
 },
 "nbformat": 4,
 "nbformat_minor": 0
}